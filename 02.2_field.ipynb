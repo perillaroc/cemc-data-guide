{
 "cells": [
  {
   "cell_type": "markdown",
   "metadata": {},
   "source": [
    "# 加载 GRIB 2 要素场"
   ]
  },
  {
   "cell_type": "markdown",
   "metadata": {},
   "source": [
    "使用 eccodes-python 查找要素场，并将其封装为 `xarray.DataArray` 对象。"
   ]
  },
  {
   "cell_type": "code",
   "execution_count": 2,
   "metadata": {},
   "outputs": [
    {
     "data": {
      "text/plain": [
       "<xarray.core.options.set_options at 0x7f47f939fe90>"
      ]
     },
     "execution_count": 2,
     "metadata": {},
     "output_type": "execute_result"
    }
   ],
   "source": [
    "import xarray as xr\n",
    "\n",
    "xr.set_options(display_style=\"text\")"
   ]
  },
  {
   "cell_type": "markdown",
   "metadata": {},
   "source": [
    "## 从单个文件中检索单个要素场"
   ]
  },
  {
   "cell_type": "code",
   "execution_count": 3,
   "metadata": {},
   "outputs": [],
   "source": [
    "from nwpc_data.grib.eccodes import load_field_from_file"
   ]
  },
  {
   "cell_type": "markdown",
   "metadata": {},
   "source": [
    "获取 GRAPES GFS 2020 年 4 月 19 日 00 时次 024 时效的 GRIB 2 文件路径"
   ]
  },
  {
   "cell_type": "code",
   "execution_count": 4,
   "metadata": {},
   "outputs": [
    {
     "data": {
      "text/plain": [
       "PosixPath('/sstorage1/COMMONDATA/OPER/NWPC/GRAPES_GFS_GMF/Prod-grib/2020041900/ORIG/gmf.gra.2020041900024.grb2')"
      ]
     },
     "execution_count": 4,
     "metadata": {},
     "output_type": "execute_result"
    }
   ],
   "source": [
    "from nwpc_data.data_finder import find_local_file\n",
    "\n",
    "data_path = find_local_file(\n",
    "    \"grapes_gfs_gmf/grib2/orig\",\n",
    "    start_time=\"2020041900\",\n",
    "    forecast_time=\"024h\",\n",
    ")\n",
    "data_path"
   ]
  },
  {
   "cell_type": "markdown",
   "metadata": {},
   "source": [
    "### 等压面层\n",
    "\n",
    "检索 850hPa 温度场，返回 `xarray.DataArray` 对象。"
   ]
  },
  {
   "cell_type": "code",
   "execution_count": 5,
   "metadata": {},
   "outputs": [
    {
     "data": {
      "text/html": [
       "<pre>&lt;xarray.DataArray &#x27;t&#x27; (latitude: 720, longitude: 1440)&gt;\n",
       "array([[265.05535156, 265.09535156, 265.05535156, ..., 265.11535156,\n",
       "        265.04535156, 265.08535156],\n",
       "       [264.94535156, 264.94535156, 264.97535156, ..., 264.94535156,\n",
       "        264.92535156, 264.94535156],\n",
       "       [264.76535156, 264.77535156, 264.79535156, ..., 264.75535156,\n",
       "        264.74535156, 264.77535156],\n",
       "       ...,\n",
       "       [242.90535156, 242.60535156, 242.67535156, ..., 242.81535156,\n",
       "        242.77535156, 242.77535156],\n",
       "       [242.60535156, 242.61535156, 242.61535156, ..., 242.55535156,\n",
       "        242.71535156, 242.77535156],\n",
       "       [242.55535156, 242.53535156, 242.63535156, ..., 242.57535156,\n",
       "        242.53535156, 242.57535156]])\n",
       "Coordinates:\n",
       "    time        datetime64[ns] 2020-04-19\n",
       "    step        timedelta64[ns] 1 days\n",
       "    valid_time  datetime64[ns] 2020-04-20\n",
       "    pl          float64 850.0\n",
       "  * latitude    (latitude) float64 89.88 89.62 89.38 ... -89.38 -89.62 -89.88\n",
       "  * longitude   (longitude) float64 0.0 0.25 0.5 0.75 ... 359.2 359.5 359.8\n",
       "Attributes:\n",
       "    GRIB_edition:                    2\n",
       "    GRIB_centre:                     babj\n",
       "    GRIB_subCentre:                  0\n",
       "    GRIB_tablesVersion:              4\n",
       "    GRIB_localTablesVersion:         1\n",
       "    GRIB_dataType:                   fc\n",
       "    GRIB_dataDate:                   20200419\n",
       "    GRIB_dataTime:                   0\n",
       "    GRIB_validityDate:               20200420\n",
       "    GRIB_validityTime:               0\n",
       "    GRIB_step:                       24\n",
       "    GRIB_stepType:                   instant\n",
       "    GRIB_stepUnits:                  1\n",
       "    GRIB_stepRange:                  24\n",
       "    GRIB_endStep:                    24\n",
       "    GRIB_name:                       Temperature\n",
       "    GRIB_shortName:                  t\n",
       "    GRIB_cfName:                     air_temperature\n",
       "    GRIB_discipline:                 0\n",
       "    GRIB_parameterCategory:          0\n",
       "    GRIB_parameterNumber:            0\n",
       "    GRIB_gridType:                   regular_ll\n",
       "    GRIB_gridDefinitionDescription:  Latitude/longitude \n",
       "    GRIB_typeOfFirstFixedSurface:    pl\n",
       "    GRIB_typeOfLevel:                isobaricInhPa\n",
       "    GRIB_level:                      850\n",
       "    GRIB_numberOfPoints:             1036800\n",
       "    GRIB_missingValue:               9999\n",
       "    GRIB_units:                      K\n",
       "    long_name:                       Temperature\n",
       "    units:                           K</pre>"
      ],
      "text/plain": [
       "<xarray.DataArray 't' (latitude: 720, longitude: 1440)>\n",
       "array([[265.05535156, 265.09535156, 265.05535156, ..., 265.11535156,\n",
       "        265.04535156, 265.08535156],\n",
       "       [264.94535156, 264.94535156, 264.97535156, ..., 264.94535156,\n",
       "        264.92535156, 264.94535156],\n",
       "       [264.76535156, 264.77535156, 264.79535156, ..., 264.75535156,\n",
       "        264.74535156, 264.77535156],\n",
       "       ...,\n",
       "       [242.90535156, 242.60535156, 242.67535156, ..., 242.81535156,\n",
       "        242.77535156, 242.77535156],\n",
       "       [242.60535156, 242.61535156, 242.61535156, ..., 242.55535156,\n",
       "        242.71535156, 242.77535156],\n",
       "       [242.55535156, 242.53535156, 242.63535156, ..., 242.57535156,\n",
       "        242.53535156, 242.57535156]])\n",
       "Coordinates:\n",
       "    time        datetime64[ns] 2020-04-19\n",
       "    step        timedelta64[ns] 1 days\n",
       "    valid_time  datetime64[ns] 2020-04-20\n",
       "    pl          float64 850.0\n",
       "  * latitude    (latitude) float64 89.88 89.62 89.38 ... -89.38 -89.62 -89.88\n",
       "  * longitude   (longitude) float64 0.0 0.25 0.5 0.75 ... 359.2 359.5 359.8\n",
       "Attributes:\n",
       "    GRIB_edition:                    2\n",
       "    GRIB_centre:                     babj\n",
       "    GRIB_subCentre:                  0\n",
       "    GRIB_tablesVersion:              4\n",
       "    GRIB_localTablesVersion:         1\n",
       "    GRIB_dataType:                   fc\n",
       "    GRIB_dataDate:                   20200419\n",
       "    GRIB_dataTime:                   0\n",
       "    GRIB_validityDate:               20200420\n",
       "    GRIB_validityTime:               0\n",
       "    GRIB_step:                       24\n",
       "    GRIB_stepType:                   instant\n",
       "    GRIB_stepUnits:                  1\n",
       "    GRIB_stepRange:                  24\n",
       "    GRIB_endStep:                    24\n",
       "    GRIB_name:                       Temperature\n",
       "    GRIB_shortName:                  t\n",
       "    GRIB_cfName:                     air_temperature\n",
       "    GRIB_discipline:                 0\n",
       "    GRIB_parameterCategory:          0\n",
       "    GRIB_parameterNumber:            0\n",
       "    GRIB_gridType:                   regular_ll\n",
       "    GRIB_gridDefinitionDescription:  Latitude/longitude \n",
       "    GRIB_typeOfFirstFixedSurface:    pl\n",
       "    GRIB_typeOfLevel:                isobaricInhPa\n",
       "    GRIB_level:                      850\n",
       "    GRIB_numberOfPoints:             1036800\n",
       "    GRIB_missingValue:               9999\n",
       "    GRIB_units:                      K\n",
       "    long_name:                       Temperature\n",
       "    units:                           K"
      ]
     },
     "execution_count": 5,
     "metadata": {},
     "output_type": "execute_result"
    }
   ],
   "source": [
    "t850 = load_field_from_file(\n",
    "    data_path,\n",
    "    parameter=\"t\",\n",
    "    level_type=\"pl\",\n",
    "    level=850,\n",
    ")\n",
    "t850"
   ]
  },
  {
   "cell_type": "markdown",
   "metadata": {},
   "source": [
    "返回的温度场包含两个维度 `latitude` 和 `longitude`。"
   ]
  },
  {
   "cell_type": "markdown",
   "metadata": {},
   "source": [
    "### 地面场\n",
    "\n",
    "获取 2m 温度"
   ]
  },
  {
   "cell_type": "code",
   "execution_count": 6,
   "metadata": {},
   "outputs": [
    {
     "data": {
      "text/html": [
       "<pre>&lt;xarray.DataArray &#x27;2t&#x27; (latitude: 720, longitude: 1440)&gt;\n",
       "array([[266.83474609, 266.94474609, 266.85474609, ..., 266.90474609,\n",
       "        266.89474609, 266.93474609],\n",
       "       [266.94474609, 266.98474609, 266.95474609, ..., 266.95474609,\n",
       "        266.92474609, 266.86474609],\n",
       "       [266.94474609, 266.94474609, 266.95474609, ..., 266.90474609,\n",
       "        266.94474609, 266.96474609],\n",
       "       ...,\n",
       "       [233.37474609, 233.02474609, 233.04474609, ..., 233.21474609,\n",
       "        233.21474609, 233.22474609],\n",
       "       [232.92474609, 232.92474609, 232.95474609, ..., 232.84474609,\n",
       "        232.93474609, 233.11474609],\n",
       "       [232.67474609, 232.62474609, 232.77474609, ..., 232.72474609,\n",
       "        232.69474609, 232.73474609]])\n",
       "Coordinates:\n",
       "    time               datetime64[ns] 2020-04-19\n",
       "    step               timedelta64[ns] 1 days\n",
       "    valid_time         datetime64[ns] 2020-04-20\n",
       "    heightAboveGround  int64 2\n",
       "  * latitude           (latitude) float64 89.88 89.62 89.38 ... -89.62 -89.88\n",
       "  * longitude          (longitude) float64 0.0 0.25 0.5 ... 359.2 359.5 359.8\n",
       "Attributes:\n",
       "    GRIB_edition:                    2\n",
       "    GRIB_centre:                     babj\n",
       "    GRIB_subCentre:                  0\n",
       "    GRIB_tablesVersion:              4\n",
       "    GRIB_localTablesVersion:         1\n",
       "    GRIB_dataType:                   fc\n",
       "    GRIB_dataDate:                   20200419\n",
       "    GRIB_dataTime:                   0\n",
       "    GRIB_validityDate:               20200420\n",
       "    GRIB_validityTime:               0\n",
       "    GRIB_step:                       24\n",
       "    GRIB_stepType:                   instant\n",
       "    GRIB_stepUnits:                  1\n",
       "    GRIB_stepRange:                  24\n",
       "    GRIB_endStep:                    24\n",
       "    GRIB_name:                       2 metre temperature\n",
       "    GRIB_shortName:                  2t\n",
       "    GRIB_cfName:                     air_temperature\n",
       "    GRIB_discipline:                 0\n",
       "    GRIB_parameterCategory:          0\n",
       "    GRIB_parameterNumber:            0\n",
       "    GRIB_gridType:                   regular_ll\n",
       "    GRIB_gridDefinitionDescription:  Latitude/longitude \n",
       "    GRIB_typeOfFirstFixedSurface:    sfc\n",
       "    GRIB_typeOfLevel:                heightAboveGround\n",
       "    GRIB_level:                      2\n",
       "    GRIB_numberOfPoints:             1036800\n",
       "    GRIB_missingValue:               9999\n",
       "    GRIB_units:                      K\n",
       "    long_name:                       2 metre temperature\n",
       "    units:                           K</pre>"
      ],
      "text/plain": [
       "<xarray.DataArray '2t' (latitude: 720, longitude: 1440)>\n",
       "array([[266.83474609, 266.94474609, 266.85474609, ..., 266.90474609,\n",
       "        266.89474609, 266.93474609],\n",
       "       [266.94474609, 266.98474609, 266.95474609, ..., 266.95474609,\n",
       "        266.92474609, 266.86474609],\n",
       "       [266.94474609, 266.94474609, 266.95474609, ..., 266.90474609,\n",
       "        266.94474609, 266.96474609],\n",
       "       ...,\n",
       "       [233.37474609, 233.02474609, 233.04474609, ..., 233.21474609,\n",
       "        233.21474609, 233.22474609],\n",
       "       [232.92474609, 232.92474609, 232.95474609, ..., 232.84474609,\n",
       "        232.93474609, 233.11474609],\n",
       "       [232.67474609, 232.62474609, 232.77474609, ..., 232.72474609,\n",
       "        232.69474609, 232.73474609]])\n",
       "Coordinates:\n",
       "    time               datetime64[ns] 2020-04-19\n",
       "    step               timedelta64[ns] 1 days\n",
       "    valid_time         datetime64[ns] 2020-04-20\n",
       "    heightAboveGround  int64 2\n",
       "  * latitude           (latitude) float64 89.88 89.62 89.38 ... -89.62 -89.88\n",
       "  * longitude          (longitude) float64 0.0 0.25 0.5 ... 359.2 359.5 359.8\n",
       "Attributes:\n",
       "    GRIB_edition:                    2\n",
       "    GRIB_centre:                     babj\n",
       "    GRIB_subCentre:                  0\n",
       "    GRIB_tablesVersion:              4\n",
       "    GRIB_localTablesVersion:         1\n",
       "    GRIB_dataType:                   fc\n",
       "    GRIB_dataDate:                   20200419\n",
       "    GRIB_dataTime:                   0\n",
       "    GRIB_validityDate:               20200420\n",
       "    GRIB_validityTime:               0\n",
       "    GRIB_step:                       24\n",
       "    GRIB_stepType:                   instant\n",
       "    GRIB_stepUnits:                  1\n",
       "    GRIB_stepRange:                  24\n",
       "    GRIB_endStep:                    24\n",
       "    GRIB_name:                       2 metre temperature\n",
       "    GRIB_shortName:                  2t\n",
       "    GRIB_cfName:                     air_temperature\n",
       "    GRIB_discipline:                 0\n",
       "    GRIB_parameterCategory:          0\n",
       "    GRIB_parameterNumber:            0\n",
       "    GRIB_gridType:                   regular_ll\n",
       "    GRIB_gridDefinitionDescription:  Latitude/longitude \n",
       "    GRIB_typeOfFirstFixedSurface:    sfc\n",
       "    GRIB_typeOfLevel:                heightAboveGround\n",
       "    GRIB_level:                      2\n",
       "    GRIB_numberOfPoints:             1036800\n",
       "    GRIB_missingValue:               9999\n",
       "    GRIB_units:                      K\n",
       "    long_name:                       2 metre temperature\n",
       "    units:                           K"
      ]
     },
     "execution_count": 6,
     "metadata": {},
     "output_type": "execute_result"
    }
   ],
   "source": [
    "t2m = load_field_from_file(\n",
    "    data_path,\n",
    "    parameter=\"2t\",\n",
    "    level_type=\"heightAboveGround\",\n",
    "    level=2,\n",
    ")\n",
    "t2m"
   ]
  },
  {
   "cell_type": "markdown",
   "metadata": {},
   "source": [
    "### 等模式面层\n",
    "\n",
    "获取 GRAPES GFS 2020 年 4 月 19 日 00 时次 024 时效的等模式面层 GRIB 2 文件路径"
   ]
  },
  {
   "cell_type": "code",
   "execution_count": 7,
   "metadata": {},
   "outputs": [
    {
     "data": {
      "text/plain": [
       "PosixPath('/sstorage1/COMMONDATA/OPER/NWPC/GRAPES_GFS_GMF/Prod-grib/2020041821/MODELVAR/modelvar2020041900024.grb2')"
      ]
     },
     "execution_count": 7,
     "metadata": {},
     "output_type": "execute_result"
    }
   ],
   "source": [
    "from nwpc_data.data_finder import find_local_file\n",
    "\n",
    "modelvar_path = find_local_file(\n",
    "    \"grapes_gfs_gmf/grib2/modelvar\",\n",
    "    start_time=\"2020041900\",\n",
    "    forecast_time=\"024h\",\n",
    ")\n",
    "modelvar_path"
   ]
  },
  {
   "cell_type": "markdown",
   "metadata": {},
   "source": [
    "获取第 10 层模式面温度场"
   ]
  },
  {
   "cell_type": "code",
   "execution_count": 8,
   "metadata": {},
   "outputs": [
    {
     "data": {
      "text/html": [
       "<pre>&lt;xarray.DataArray &#x27;t&#x27; (latitude: 720, longitude: 1440)&gt;\n",
       "array([[263.85376953, 263.83376953, 263.84376953, ..., 263.83376953,\n",
       "        263.85376953, 263.82376953],\n",
       "       [263.73376953, 263.73376953, 263.71376953, ..., 263.72376953,\n",
       "        263.74376953, 263.69376953],\n",
       "       [263.75376953, 263.51376953, 263.51376953, ..., 263.69376953,\n",
       "        263.66376953, 263.30376953],\n",
       "       ...,\n",
       "       [238.29376953, 237.94376953, 238.16376953, ..., 237.94376953,\n",
       "        238.31376953, 237.68376953],\n",
       "       [237.54376953, 237.88376953, 237.43376953, ..., 237.63376953,\n",
       "        237.44376953, 238.14376953],\n",
       "       [237.41376953, 237.36376953, 237.91376953, ..., 237.35376953,\n",
       "        237.36376953, 237.93376953]])\n",
       "Coordinates:\n",
       "    time        datetime64[ns] 2020-04-19\n",
       "    step        timedelta64[ns] 1 days\n",
       "    valid_time  datetime64[ns] 2020-04-20\n",
       "    ml          int64 10\n",
       "  * latitude    (latitude) float64 89.88 89.62 89.38 ... -89.38 -89.62 -89.88\n",
       "  * longitude   (longitude) float64 0.0 0.25 0.5 0.75 ... 359.2 359.5 359.8\n",
       "Attributes:\n",
       "    GRIB_edition:                    2\n",
       "    GRIB_centre:                     babj\n",
       "    GRIB_subCentre:                  0\n",
       "    GRIB_tablesVersion:              4\n",
       "    GRIB_localTablesVersion:         1\n",
       "    GRIB_dataType:                   fc\n",
       "    GRIB_dataDate:                   20200419\n",
       "    GRIB_dataTime:                   0\n",
       "    GRIB_validityDate:               20200420\n",
       "    GRIB_validityTime:               0\n",
       "    GRIB_step:                       24\n",
       "    GRIB_stepType:                   instant\n",
       "    GRIB_stepUnits:                  1\n",
       "    GRIB_stepRange:                  24\n",
       "    GRIB_endStep:                    24\n",
       "    GRIB_name:                       Temperature\n",
       "    GRIB_shortName:                  t\n",
       "    GRIB_cfName:                     air_temperature\n",
       "    GRIB_discipline:                 0\n",
       "    GRIB_parameterCategory:          0\n",
       "    GRIB_parameterNumber:            0\n",
       "    GRIB_gridType:                   regular_ll\n",
       "    GRIB_gridDefinitionDescription:  Latitude/longitude \n",
       "    GRIB_typeOfFirstFixedSurface:    131\n",
       "    GRIB_level:                      10\n",
       "    GRIB_numberOfPoints:             1036800\n",
       "    GRIB_missingValue:               9999\n",
       "    GRIB_units:                      K\n",
       "    long_name:                       Temperature\n",
       "    units:                           K</pre>"
      ],
      "text/plain": [
       "<xarray.DataArray 't' (latitude: 720, longitude: 1440)>\n",
       "array([[263.85376953, 263.83376953, 263.84376953, ..., 263.83376953,\n",
       "        263.85376953, 263.82376953],\n",
       "       [263.73376953, 263.73376953, 263.71376953, ..., 263.72376953,\n",
       "        263.74376953, 263.69376953],\n",
       "       [263.75376953, 263.51376953, 263.51376953, ..., 263.69376953,\n",
       "        263.66376953, 263.30376953],\n",
       "       ...,\n",
       "       [238.29376953, 237.94376953, 238.16376953, ..., 237.94376953,\n",
       "        238.31376953, 237.68376953],\n",
       "       [237.54376953, 237.88376953, 237.43376953, ..., 237.63376953,\n",
       "        237.44376953, 238.14376953],\n",
       "       [237.41376953, 237.36376953, 237.91376953, ..., 237.35376953,\n",
       "        237.36376953, 237.93376953]])\n",
       "Coordinates:\n",
       "    time        datetime64[ns] 2020-04-19\n",
       "    step        timedelta64[ns] 1 days\n",
       "    valid_time  datetime64[ns] 2020-04-20\n",
       "    ml          int64 10\n",
       "  * latitude    (latitude) float64 89.88 89.62 89.38 ... -89.38 -89.62 -89.88\n",
       "  * longitude   (longitude) float64 0.0 0.25 0.5 0.75 ... 359.2 359.5 359.8\n",
       "Attributes:\n",
       "    GRIB_edition:                    2\n",
       "    GRIB_centre:                     babj\n",
       "    GRIB_subCentre:                  0\n",
       "    GRIB_tablesVersion:              4\n",
       "    GRIB_localTablesVersion:         1\n",
       "    GRIB_dataType:                   fc\n",
       "    GRIB_dataDate:                   20200419\n",
       "    GRIB_dataTime:                   0\n",
       "    GRIB_validityDate:               20200420\n",
       "    GRIB_validityTime:               0\n",
       "    GRIB_step:                       24\n",
       "    GRIB_stepType:                   instant\n",
       "    GRIB_stepUnits:                  1\n",
       "    GRIB_stepRange:                  24\n",
       "    GRIB_endStep:                    24\n",
       "    GRIB_name:                       Temperature\n",
       "    GRIB_shortName:                  t\n",
       "    GRIB_cfName:                     air_temperature\n",
       "    GRIB_discipline:                 0\n",
       "    GRIB_parameterCategory:          0\n",
       "    GRIB_parameterNumber:            0\n",
       "    GRIB_gridType:                   regular_ll\n",
       "    GRIB_gridDefinitionDescription:  Latitude/longitude \n",
       "    GRIB_typeOfFirstFixedSurface:    131\n",
       "    GRIB_level:                      10\n",
       "    GRIB_numberOfPoints:             1036800\n",
       "    GRIB_missingValue:               9999\n",
       "    GRIB_units:                      K\n",
       "    long_name:                       Temperature\n",
       "    units:                           K"
      ]
     },
     "execution_count": 8,
     "metadata": {},
     "output_type": "execute_result"
    }
   ],
   "source": [
    "t10ml = load_field_from_file(\n",
    "    modelvar_path,\n",
    "    parameter=\"t\",\n",
    "    level_type=\"ml\",\n",
    "    level=10,\n",
    ")\n",
    "t10ml"
   ]
  },
  {
   "cell_type": "markdown",
   "metadata": {},
   "source": [
    "## 从单个文件中检索多层次要素场\n",
    "\n",
    "检索文件中所有等压面层的温度场。\n",
    "\n",
    "省略 `level` 参数，会加载所有层次的要素场。\n",
    "`show_progress` 参数会显示要素场加载进度。"
   ]
  },
  {
   "cell_type": "code",
   "execution_count": 9,
   "metadata": {},
   "outputs": [
    {
     "name": "stderr",
     "output_type": "stream",
     "text": [
      "Filtering: 100%|██████████| 837/837 [00:01<00:00, 815.90it/s] \n",
      "Decoding: 100%|██████████| 40/40 [00:14<00:00,  2.74it/s]\n"
     ]
    },
    {
     "name": "stdout",
     "output_type": "stream",
     "text": [
      "Packing...\n"
     ]
    },
    {
     "data": {
      "text/html": [
       "<pre>&lt;xarray.DataArray &#x27;t&#x27; (pl: 40, latitude: 720, longitude: 1440)&gt;\n",
       "array([[[267.29128906, 267.39128906, 267.30128906, ..., 267.35128906,\n",
       "         267.34128906, 267.38128906],\n",
       "        [267.38128906, 267.40128906, 267.37128906, ..., 267.37128906,\n",
       "         267.36128906, 267.30128906],\n",
       "        [267.34128906, 267.34128906, 267.35128906, ..., 267.30128906,\n",
       "         267.33128906, 267.35128906],\n",
       "        ...,\n",
       "        [250.12128906, 249.81128906, 249.89128906, ..., 250.04128906,\n",
       "         249.99128906, 249.99128906],\n",
       "        [249.81128906, 249.83128906, 249.82128906, ..., 249.76128906,\n",
       "         249.92128906, 249.99128906],\n",
       "        [249.76128906, 249.73128906, 249.83128906, ..., 249.77128906,\n",
       "         249.74128906, 249.78128906]],\n",
       "\n",
       "       [[265.81492187, 265.86492187, 265.80492187, ..., 265.82492188,\n",
       "         265.82492188, 265.83492188],\n",
       "        [265.74492187, 265.76492188, 265.75492187, ..., 265.73492187,\n",
       "         265.73492187, 265.73492187],\n",
       "        [265.69492187, 265.70492188, 265.70492188, ..., 265.66492188,\n",
       "         265.68492187, 265.70492188],\n",
       "...\n",
       "        [232.79939063, 232.79939063, 232.80039063, ..., 232.79639063,\n",
       "         232.79739062, 232.79839062],\n",
       "        [232.83339062, 232.83439062, 232.83439062, ..., 232.83239063,\n",
       "         232.83239063, 232.83339062],\n",
       "        [232.87439063, 232.87439063, 232.87439063, ..., 232.87339063,\n",
       "         232.87439063, 232.87439063]],\n",
       "\n",
       "       [[231.63573437, 231.63573437, 231.63573437, ..., 231.63473437,\n",
       "         231.63573437, 231.63573437],\n",
       "        [231.73973438, 231.74073438, 231.74073438, ..., 231.73873438,\n",
       "         231.73873438, 231.73973438],\n",
       "        [231.83473438, 231.83573438, 231.83673437, ..., 231.83173437,\n",
       "         231.83273438, 231.83373438],\n",
       "        ...,\n",
       "        [230.46973438, 230.47073438, 230.47273438, ..., 230.46673438,\n",
       "         230.46773437, 230.46873437],\n",
       "        [230.43373438, 230.43373438, 230.43473438, ..., 230.43073438,\n",
       "         230.43173437, 230.43273437],\n",
       "        [230.44373437, 230.44373437, 230.44373437, ..., 230.44273438,\n",
       "         230.44273438, 230.44373437]]])\n",
       "Coordinates:\n",
       "    time        datetime64[ns] 2020-04-19\n",
       "    step        timedelta64[ns] 1 days\n",
       "    valid_time  datetime64[ns] 2020-04-20\n",
       "  * latitude    (latitude) float64 89.88 89.62 89.38 ... -89.38 -89.62 -89.88\n",
       "  * longitude   (longitude) float64 0.0 0.25 0.5 0.75 ... 359.2 359.5 359.8\n",
       "  * pl          (pl) float64 1e+03 975.0 950.0 925.0 900.0 ... 1.0 0.5 0.2 0.1\n",
       "Attributes:\n",
       "    GRIB_edition:                    2\n",
       "    GRIB_centre:                     babj\n",
       "    GRIB_subCentre:                  0\n",
       "    GRIB_tablesVersion:              4\n",
       "    GRIB_localTablesVersion:         1\n",
       "    GRIB_dataType:                   fc\n",
       "    GRIB_dataDate:                   20200419\n",
       "    GRIB_dataTime:                   0\n",
       "    GRIB_validityDate:               20200420\n",
       "    GRIB_validityTime:               0\n",
       "    GRIB_step:                       24\n",
       "    GRIB_stepType:                   instant\n",
       "    GRIB_stepUnits:                  1\n",
       "    GRIB_stepRange:                  24\n",
       "    GRIB_endStep:                    24\n",
       "    GRIB_name:                       Temperature\n",
       "    GRIB_shortName:                  t\n",
       "    GRIB_cfName:                     air_temperature\n",
       "    GRIB_discipline:                 0\n",
       "    GRIB_parameterCategory:          0\n",
       "    GRIB_parameterNumber:            0\n",
       "    GRIB_gridType:                   regular_ll\n",
       "    GRIB_gridDefinitionDescription:  Latitude/longitude \n",
       "    GRIB_typeOfFirstFixedSurface:    pl\n",
       "    GRIB_typeOfLevel:                isobaricInhPa\n",
       "    GRIB_level:                      1000\n",
       "    GRIB_numberOfPoints:             1036800\n",
       "    GRIB_missingValue:               9999\n",
       "    GRIB_units:                      K\n",
       "    long_name:                       Temperature\n",
       "    units:                           K</pre>"
      ],
      "text/plain": [
       "<xarray.DataArray 't' (pl: 40, latitude: 720, longitude: 1440)>\n",
       "array([[[267.29128906, 267.39128906, 267.30128906, ..., 267.35128906,\n",
       "         267.34128906, 267.38128906],\n",
       "        [267.38128906, 267.40128906, 267.37128906, ..., 267.37128906,\n",
       "         267.36128906, 267.30128906],\n",
       "        [267.34128906, 267.34128906, 267.35128906, ..., 267.30128906,\n",
       "         267.33128906, 267.35128906],\n",
       "        ...,\n",
       "        [250.12128906, 249.81128906, 249.89128906, ..., 250.04128906,\n",
       "         249.99128906, 249.99128906],\n",
       "        [249.81128906, 249.83128906, 249.82128906, ..., 249.76128906,\n",
       "         249.92128906, 249.99128906],\n",
       "        [249.76128906, 249.73128906, 249.83128906, ..., 249.77128906,\n",
       "         249.74128906, 249.78128906]],\n",
       "\n",
       "       [[265.81492187, 265.86492187, 265.80492187, ..., 265.82492188,\n",
       "         265.82492188, 265.83492188],\n",
       "        [265.74492187, 265.76492188, 265.75492187, ..., 265.73492187,\n",
       "         265.73492187, 265.73492187],\n",
       "        [265.69492187, 265.70492188, 265.70492188, ..., 265.66492188,\n",
       "         265.68492187, 265.70492188],\n",
       "...\n",
       "        [232.79939063, 232.79939063, 232.80039063, ..., 232.79639063,\n",
       "         232.79739062, 232.79839062],\n",
       "        [232.83339062, 232.83439062, 232.83439062, ..., 232.83239063,\n",
       "         232.83239063, 232.83339062],\n",
       "        [232.87439063, 232.87439063, 232.87439063, ..., 232.87339063,\n",
       "         232.87439063, 232.87439063]],\n",
       "\n",
       "       [[231.63573437, 231.63573437, 231.63573437, ..., 231.63473437,\n",
       "         231.63573437, 231.63573437],\n",
       "        [231.73973438, 231.74073438, 231.74073438, ..., 231.73873438,\n",
       "         231.73873438, 231.73973438],\n",
       "        [231.83473438, 231.83573438, 231.83673437, ..., 231.83173437,\n",
       "         231.83273438, 231.83373438],\n",
       "        ...,\n",
       "        [230.46973438, 230.47073438, 230.47273438, ..., 230.46673438,\n",
       "         230.46773437, 230.46873437],\n",
       "        [230.43373438, 230.43373438, 230.43473438, ..., 230.43073438,\n",
       "         230.43173437, 230.43273437],\n",
       "        [230.44373437, 230.44373437, 230.44373437, ..., 230.44273438,\n",
       "         230.44273438, 230.44373437]]])\n",
       "Coordinates:\n",
       "    time        datetime64[ns] 2020-04-19\n",
       "    step        timedelta64[ns] 1 days\n",
       "    valid_time  datetime64[ns] 2020-04-20\n",
       "  * latitude    (latitude) float64 89.88 89.62 89.38 ... -89.38 -89.62 -89.88\n",
       "  * longitude   (longitude) float64 0.0 0.25 0.5 0.75 ... 359.2 359.5 359.8\n",
       "  * pl          (pl) float64 1e+03 975.0 950.0 925.0 900.0 ... 1.0 0.5 0.2 0.1\n",
       "Attributes:\n",
       "    GRIB_edition:                    2\n",
       "    GRIB_centre:                     babj\n",
       "    GRIB_subCentre:                  0\n",
       "    GRIB_tablesVersion:              4\n",
       "    GRIB_localTablesVersion:         1\n",
       "    GRIB_dataType:                   fc\n",
       "    GRIB_dataDate:                   20200419\n",
       "    GRIB_dataTime:                   0\n",
       "    GRIB_validityDate:               20200420\n",
       "    GRIB_validityTime:               0\n",
       "    GRIB_step:                       24\n",
       "    GRIB_stepType:                   instant\n",
       "    GRIB_stepUnits:                  1\n",
       "    GRIB_stepRange:                  24\n",
       "    GRIB_endStep:                    24\n",
       "    GRIB_name:                       Temperature\n",
       "    GRIB_shortName:                  t\n",
       "    GRIB_cfName:                     air_temperature\n",
       "    GRIB_discipline:                 0\n",
       "    GRIB_parameterCategory:          0\n",
       "    GRIB_parameterNumber:            0\n",
       "    GRIB_gridType:                   regular_ll\n",
       "    GRIB_gridDefinitionDescription:  Latitude/longitude \n",
       "    GRIB_typeOfFirstFixedSurface:    pl\n",
       "    GRIB_typeOfLevel:                isobaricInhPa\n",
       "    GRIB_level:                      1000\n",
       "    GRIB_numberOfPoints:             1036800\n",
       "    GRIB_missingValue:               9999\n",
       "    GRIB_units:                      K\n",
       "    long_name:                       Temperature\n",
       "    units:                           K"
      ]
     },
     "execution_count": 9,
     "metadata": {},
     "output_type": "execute_result"
    }
   ],
   "source": [
    "t_field = load_field_from_file(\n",
    "    data_path,\n",
    "    parameter=\"t\",\n",
    "    level_type=\"pl\",\n",
    "    show_progress=True,\n",
    ")\n",
    "t_field"
   ]
  },
  {
   "cell_type": "markdown",
   "metadata": {},
   "source": [
    "## 下一步\n",
    "\n",
    "[加载 GRIB 2 消息](./02.1_message.ipynb) 介绍另一种检索方法，返回 GRIB 2 handler 的函数。\n",
    "\n",
    "浏览下面的 notebook，获取关于参数的更多信息：\n",
    "\n",
    "[parameter](./03.1_parameter.ipynb) 介绍如何设置变量。\n",
    "\n",
    "[level](./03.2_level.ipynb) 介绍如何设置层次。"
   ]
  },
  {
   "cell_type": "code",
   "execution_count": null,
   "metadata": {},
   "outputs": [],
   "source": []
  }
 ],
 "metadata": {
  "kernelspec": {
   "display_name": "Python 3",
   "language": "python",
   "name": "python3"
  },
  "language_info": {
   "codemirror_mode": {
    "name": "ipython",
    "version": 3
   },
   "file_extension": ".py",
   "mimetype": "text/x-python",
   "name": "python",
   "nbconvert_exporter": "python",
   "pygments_lexer": "ipython3",
   "version": "3.7.8"
  }
 },
 "nbformat": 4,
 "nbformat_minor": 4
}
