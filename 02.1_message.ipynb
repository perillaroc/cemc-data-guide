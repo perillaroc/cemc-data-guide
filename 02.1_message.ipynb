{
 "cells": [
  {
   "cell_type": "markdown",
   "metadata": {},
   "source": [
    "# 加载 GRIB 2 消息"
   ]
  },
  {
   "cell_type": "markdown",
   "metadata": {},
   "source": [
    "nwpc-data 封装 eccodes-python 的 API 接口，提供加载要素场消息（eccodes 中的 GRIB 2 handler）的便捷方法。"
   ]
  },
  {
   "cell_type": "markdown",
   "metadata": {},
   "source": [
    "## 加载单个要素场"
   ]
  },
  {
   "cell_type": "markdown",
   "metadata": {},
   "source": [
    "`load_message_from_file` 加载符合条件的**第一个**要素场。"
   ]
  },
  {
   "cell_type": "code",
   "execution_count": 1,
   "metadata": {},
   "outputs": [],
   "source": [
    "from nwpc_data.grib.eccodes import load_message_from_file"
   ]
  },
  {
   "cell_type": "markdown",
   "metadata": {},
   "source": [
    "使用 `find_local_file` 获取 GRAPES MESO 3KM 2020 年 4 月 19 日 00 时次 024 时效的 GRIB 2 文件路径"
   ]
  },
  {
   "cell_type": "code",
   "execution_count": 14,
   "metadata": {},
   "outputs": [
    {
     "data": {
      "text/plain": [
       "PosixPath('/sstorage1/COMMONDATA/OPER/NWPC/GRAPES_MESO_3KM/Prod-grib/2020041900/ORIG/rmf.hgra.2020041900024.grb2')"
      ]
     },
     "execution_count": 14,
     "metadata": {},
     "output_type": "execute_result"
    }
   ],
   "source": [
    "from nwpc_data.data_finder import find_local_file\n",
    "\n",
    "data_path = find_local_file(\n",
    "    \"grapes_meso_3km/grib2/orig\",\n",
    "    start_time=\"2020041900\",\n",
    "    forecast_time=\"024h\",\n",
    ")\n",
    "data_path"
   ]
  },
  {
   "cell_type": "markdown",
   "metadata": {},
   "source": [
    "加载 850hPa 温度场，返回 eccodes-python 的 GRIB 2 消息。\n",
    "\n",
    "**注意**：需要使用 `eccodes.codes_release()` 手动释放消息。"
   ]
  },
  {
   "cell_type": "code",
   "execution_count": 15,
   "metadata": {},
   "outputs": [
    {
     "data": {
      "text/plain": [
       "94251309221936"
      ]
     },
     "execution_count": 15,
     "metadata": {},
     "output_type": "execute_result"
    }
   ],
   "source": [
    "t850 = load_message_from_file(\n",
    "    data_path,\n",
    "    parameter=\"t\",\n",
    "    level_type=\"pl\",\n",
    "    level=850,\n",
    ")\n",
    "t850"
   ]
  },
  {
   "cell_type": "markdown",
   "metadata": {},
   "source": [
    "`t850` 是 eccodes-python 的 GRIB 2 handler，可以使用 eccodes-python 的 API 接口获取 GRIB 2 消息的内容。\n",
    "\n",
    "使用 eccodes-python 的 `codes_get` 获取要素场的属性信息。"
   ]
  },
  {
   "cell_type": "code",
   "execution_count": 19,
   "metadata": {},
   "outputs": [
    {
     "name": "stdout",
     "output_type": "stream",
     "text": [
      "shortName:    t\n",
      "typeOfLevel:  isobaricInhPa\n",
      "level:        850\n"
     ]
    }
   ],
   "source": [
    "print(\"shortName:   \", eccodes.codes_get(t850, \"shortName\"))\n",
    "print(\"typeOfLevel: \", eccodes.codes_get(t850, \"typeOfLevel\"))\n",
    "print(\"level:       \", eccodes.codes_get(t850, \"level\"))"
   ]
  },
  {
   "cell_type": "markdown",
   "metadata": {},
   "source": [
    "使用 eccodes-python 的 `codes_get_double_array` 接口获取要素场数组。"
   ]
  },
  {
   "cell_type": "code",
   "execution_count": 4,
   "metadata": {},
   "outputs": [
    {
     "data": {
      "text/plain": [
       "array([[269.6815, 269.6895, 269.6985, ..., 253.6865, 253.6905, 253.6965],\n",
       "       [269.6965, 269.7045, 269.7225, ..., 253.6575, 253.6945, 253.7115],\n",
       "       [269.7135, 269.7295, 269.7495, ..., 253.7195, 253.6975, 253.7155],\n",
       "       ...,\n",
       "       [294.1695, 294.0615, 293.9815, ..., 291.3685, 291.3925, 291.4115],\n",
       "       [294.1215, 294.0555, 294.0105, ..., 291.4275, 291.4255, 291.4345],\n",
       "       [294.0735, 294.0595, 294.0345, ..., 291.5105, 291.4825, 291.4545]])"
      ]
     },
     "execution_count": 4,
     "metadata": {},
     "output_type": "execute_result"
    }
   ],
   "source": [
    "import eccodes\n",
    "\n",
    "values = eccodes.codes_get_double_array(t850, \"values\")\n",
    "values = values.reshape([1671, 2501])\n",
    "values"
   ]
  },
  {
   "cell_type": "markdown",
   "metadata": {},
   "source": [
    "释放要素场。"
   ]
  },
  {
   "cell_type": "code",
   "execution_count": 5,
   "metadata": {},
   "outputs": [],
   "source": [
    "eccodes.codes_release(t850)"
   ]
  },
  {
   "cell_type": "markdown",
   "metadata": {},
   "source": [
    "加载 2m 温度场。"
   ]
  },
  {
   "cell_type": "code",
   "execution_count": 6,
   "metadata": {},
   "outputs": [
    {
     "data": {
      "text/plain": [
       "94251309199808"
      ]
     },
     "execution_count": 6,
     "metadata": {},
     "output_type": "execute_result"
    }
   ],
   "source": [
    "t2m = load_message_from_file(\n",
    "    data_path,\n",
    "    parameter=\"2t\",\n",
    "    level_type=\"heightAboveGround\",\n",
    "    level=2\n",
    ")\n",
    "t2m"
   ]
  },
  {
   "cell_type": "code",
   "execution_count": 7,
   "metadata": {},
   "outputs": [],
   "source": [
    "eccodes.codes_release(t2m)"
   ]
  },
  {
   "cell_type": "markdown",
   "metadata": {},
   "source": [
    "## 从单个文件中加载多个要素场"
   ]
  },
  {
   "cell_type": "markdown",
   "metadata": {},
   "source": [
    "加载符合条件的所有要素场。"
   ]
  },
  {
   "cell_type": "code",
   "execution_count": 8,
   "metadata": {},
   "outputs": [],
   "source": [
    "from nwpc_data.grib.eccodes import load_messages_from_file"
   ]
  },
  {
   "cell_type": "markdown",
   "metadata": {},
   "source": [
    "加载所有等压面层的位势高度场，返回 GRIB 2 消息列表。\n",
    "\n",
    "**注意**：需要使用 `eccodes.codes_release()` 手动释放所有消息。"
   ]
  },
  {
   "cell_type": "code",
   "execution_count": 9,
   "metadata": {},
   "outputs": [
    {
     "name": "stdout",
     "output_type": "stream",
     "text": [
      "19\n"
     ]
    }
   ],
   "source": [
    "gh = load_messages_from_file(\n",
    "    data_path,\n",
    "    parameter=\"gh\",\n",
    "    level_type=\"pl\"\n",
    ")\n",
    "print(len(gh))"
   ]
  },
  {
   "cell_type": "markdown",
   "metadata": {},
   "source": [
    "显示每个要素场的层次信息。"
   ]
  },
  {
   "cell_type": "code",
   "execution_count": 12,
   "metadata": {},
   "outputs": [
    {
     "name": "stdout",
     "output_type": "stream",
     "text": [
      "isobaricInhPa 1000\n",
      "isobaricInhPa 975\n",
      "isobaricInhPa 950\n",
      "isobaricInhPa 925\n",
      "isobaricInhPa 900\n",
      "isobaricInhPa 850\n",
      "isobaricInhPa 800\n",
      "isobaricInhPa 750\n",
      "isobaricInhPa 700\n",
      "isobaricInhPa 650\n",
      "isobaricInhPa 600\n",
      "isobaricInhPa 550\n",
      "isobaricInhPa 500\n",
      "isobaricInhPa 450\n",
      "isobaricInhPa 400\n",
      "isobaricInhPa 350\n",
      "isobaricInhPa 300\n",
      "isobaricInhPa 200\n",
      "isobaricInhPa 100\n"
     ]
    }
   ],
   "source": [
    "for message in gh:\n",
    "    print(eccodes.codes_get(message, \"typeOfLevel\"), eccodes.codes_get(message, \"level\"))"
   ]
  },
  {
   "cell_type": "markdown",
   "metadata": {},
   "source": [
    "释放所有消息"
   ]
  },
  {
   "cell_type": "code",
   "execution_count": 13,
   "metadata": {},
   "outputs": [],
   "source": [
    "for message in gh:\n",
    "    eccodes.codes_release(message)"
   ]
  },
  {
   "cell_type": "markdown",
   "metadata": {},
   "source": [
    "## 下一步\n",
    "\n",
    "[加载 GRIB 2 要素场](./02.2_field.ipynb) 介绍另一种检索方法，返回 `xarray.DataArray` 的函数。\n",
    "\n",
    "浏览下面的 notebook，获取关于参数的更多信息：\n",
    "\n",
    "[parameter](./03.1_parameter.ipynb) 介绍如何设置变量。\n",
    "\n",
    "[level](./03.2_level.ipynb) 介绍如何设置层次。"
   ]
  },
  {
   "cell_type": "code",
   "execution_count": null,
   "metadata": {},
   "outputs": [],
   "source": []
  }
 ],
 "metadata": {
  "kernelspec": {
   "display_name": "Python 3",
   "language": "python",
   "name": "python3"
  },
  "language_info": {
   "codemirror_mode": {
    "name": "ipython",
    "version": 3
   },
   "file_extension": ".py",
   "mimetype": "text/x-python",
   "name": "python",
   "nbconvert_exporter": "python",
   "pygments_lexer": "ipython3",
   "version": "3.7.8"
  }
 },
 "nbformat": 4,
 "nbformat_minor": 4
}
