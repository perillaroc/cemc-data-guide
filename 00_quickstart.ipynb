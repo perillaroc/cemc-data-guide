{
 "cells": [
  {
   "cell_type": "markdown",
   "metadata": {},
   "source": [
    "# 快速开始"
   ]
  },
  {
   "cell_type": "markdown",
   "metadata": {},
   "source": [
    "介绍如何使用 nwpc-data 库。\n",
    "\n",
    "首先导入需要使用的一些库。"
   ]
  },
  {
   "cell_type": "code",
   "execution_count": 26,
   "metadata": {},
   "outputs": [],
   "source": [
    "import numpy as np\n",
    "import pandas as pd\n",
    "import eccodes"
   ]
  },
  {
   "cell_type": "markdown",
   "metadata": {},
   "source": [
    "## 获取业务系统产品文件路径\n",
    "\n",
    "可以使用内置的配置文件获取 CMA-PI 或二级存储中业务系统产品文件路径。\n",
    "\n",
    "下面的示例获取 GRAPES GFS GMF 系统 24 小时的原始分辨率 GRIB 2 文件路径。"
   ]
  },
  {
   "cell_type": "code",
   "execution_count": 27,
   "metadata": {},
   "outputs": [
    {
     "data": {
      "text/plain": [
       "PosixPath('/sstorage1/COMMONDATA/OPER/NWPC/GRAPES_GFS_GMF/Prod-grib/2020042121/ORIG/gmf.gra.2020042200024.grb2')"
      ]
     },
     "execution_count": 27,
     "metadata": {},
     "output_type": "execute_result"
    }
   ],
   "source": [
    "from nwpc_data.data_finder import find_local_file\n",
    "\n",
    "file_path = find_local_file(\n",
    "    \"grapes_gfs_gmf/grib2/orig\",\n",
    "    start_time=\"2020042200\",\n",
    "    forecast_time=\"24h\"\n",
    ")\n",
    "file_path"
   ]
  },
  {
   "cell_type": "markdown",
   "metadata": {},
   "source": [
    "使用 `number` 参数指定集合预报的成员编号。"
   ]
  },
  {
   "cell_type": "code",
   "execution_count": 28,
   "metadata": {},
   "outputs": [
    {
     "data": {
      "text/plain": [
       "PosixPath('/sstorage1/COMMONDATA/OPER/NWPC/GRAPES_GEPS/Prod-grib/2020042200/grib2/gef.gra.020.2020042200024.grb2')"
      ]
     },
     "execution_count": 28,
     "metadata": {},
     "output_type": "execute_result"
    }
   ],
   "source": [
    "file_path = find_local_file(\n",
    "    \"grapes_geps/grib2/orig\",\n",
    "    start_time=\"2020042200\",\n",
    "    forecast_time=\"24h\",\n",
    "    number=20\n",
    ")\n",
    "file_path"
   ]
  },
  {
   "cell_type": "markdown",
   "metadata": {},
   "source": [
    "nwpc-data 还内置了共享数据集的部分数据。\n",
    "\n",
    "获取 FNL 资料。"
   ]
  },
  {
   "cell_type": "code",
   "execution_count": 29,
   "metadata": {},
   "outputs": [
    {
     "data": {
      "text/plain": [
       "PosixPath('/sstorage1/COMMONDATA/glob/fnl/2019/fnl_20191220_00_00.grib2')"
      ]
     },
     "execution_count": 29,
     "metadata": {},
     "output_type": "execute_result"
    }
   ],
   "source": [
    "file_path = find_local_file(\n",
    "    \"glob/fnl\",\n",
    "    start_time=\"2019122000\",\n",
    "    data_class=\"cm\",\n",
    ")\n",
    "file_path"
   ]
  },
  {
   "cell_type": "markdown",
   "metadata": {},
   "source": [
    "内置的配置文件请查看 `nwpc_data/data_finder/conf` 目录"
   ]
  },
  {
   "cell_type": "markdown",
   "metadata": {},
   "source": [
    "## 检索 GRIB 2 消息"
   ]
  },
  {
   "cell_type": "markdown",
   "metadata": {},
   "source": [
    "nwpc-data 使用 [eccodes-python](https://github.com/ecmwf/eccodes-python) 从 GRIB 2 文件中检索需要的要素场，并返回 GRIB 2 消息。\n",
    "\n",
    "下面的示例从文件中检索单个要素场。"
   ]
  },
  {
   "cell_type": "code",
   "execution_count": 30,
   "metadata": {},
   "outputs": [
    {
     "data": {
      "text/plain": [
       "PosixPath('/sstorage1/COMMONDATA/OPER/NWPC/GRAPES_GFS_GMF/Prod-grib/2020042121/ORIG/gmf.gra.2020042200024.grb2')"
      ]
     },
     "execution_count": 30,
     "metadata": {},
     "output_type": "execute_result"
    }
   ],
   "source": [
    "data_path = find_local_file(\n",
    "    \"grapes_gfs_gmf/grib2/orig\",\n",
    "    start_time=\"2020042200\",\n",
    "    forecast_time=\"24h\"\n",
    ")\n",
    "data_path"
   ]
  },
  {
   "cell_type": "code",
   "execution_count": 31,
   "metadata": {},
   "outputs": [
    {
     "data": {
      "text/plain": [
       "94357887418928"
      ]
     },
     "execution_count": 31,
     "metadata": {},
     "output_type": "execute_result"
    }
   ],
   "source": [
    "from nwpc_data.grib.eccodes import load_message_from_file\n",
    "\n",
    "t850 = load_message_from_file(\n",
    "    data_path,\n",
    "    parameter=\"t\",\n",
    "    level_type=\"pl\",\n",
    "    level=850,\n",
    ")\n",
    "t850"
   ]
  },
  {
   "cell_type": "markdown",
   "metadata": {},
   "source": [
    "可以使用 eccodes-python 的 API 接口获取 GRIB 2 消息的属性和数据。"
   ]
  },
  {
   "cell_type": "code",
   "execution_count": 32,
   "metadata": {},
   "outputs": [
    {
     "name": "stdout",
     "output_type": "stream",
     "text": [
      "shortName:    t\n",
      "typeOfLevel:  isobaricInhPa\n",
      "level:        850\n"
     ]
    }
   ],
   "source": [
    "print(\"shortName:   \", eccodes.codes_get(t850, \"shortName\"))\n",
    "print(\"typeOfLevel: \", eccodes.codes_get(t850, \"typeOfLevel\"))\n",
    "print(\"level:       \", eccodes.codes_get(t850, \"level\"))"
   ]
  },
  {
   "cell_type": "code",
   "execution_count": 33,
   "metadata": {},
   "outputs": [
    {
     "data": {
      "text/plain": [
       "array([[258.75289063, 258.76289063, 258.76289063, ..., 258.75289063,\n",
       "        258.76289063, 258.75289063],\n",
       "       [258.47289062, 258.48289062, 258.46289062, ..., 258.46289062,\n",
       "        258.47289062, 258.44289063],\n",
       "       [258.27289063, 258.26289063, 258.27289063, ..., 258.25289063,\n",
       "        258.26289063, 258.26289063],\n",
       "       ...,\n",
       "       [227.68289062, 227.68289062, 227.72289062, ..., 227.62289062,\n",
       "        227.75289062, 227.63289063],\n",
       "       [227.90289062, 227.90289062, 227.90289062, ..., 227.90289062,\n",
       "        227.88289063, 227.91289063],\n",
       "       [228.12289062, 228.18289062, 228.19289063, ..., 228.09289062,\n",
       "        228.23289063, 228.20289063]])"
      ]
     },
     "execution_count": 33,
     "metadata": {},
     "output_type": "execute_result"
    }
   ],
   "source": [
    "values = eccodes.codes_get_double_array(t850, \"values\")\n",
    "values = values.reshape([720, 1440])\n",
    "values"
   ]
  },
  {
   "cell_type": "markdown",
   "metadata": {},
   "source": [
    "**注意**：需要手动调用 `eccodes.codes_release` 释放消息。"
   ]
  },
  {
   "cell_type": "code",
   "execution_count": 34,
   "metadata": {},
   "outputs": [],
   "source": [
    "eccodes.codes_release(t850)"
   ]
  },
  {
   "cell_type": "markdown",
   "metadata": {},
   "source": [
    "## 加载 GRIB 2 要素场\n",
    "\n",
    "nwpc-data 还提供对上述检索得到 GRIB 2 消息的封装，返回 `xarray.DataArray` 对象，类似 [cfgrib](https://github.com/ecmwf/cfgrib) 库。"
   ]
  },
  {
   "cell_type": "code",
   "execution_count": 35,
   "metadata": {},
   "outputs": [
    {
     "data": {
      "text/html": [
       "<div><svg style=\"position: absolute; width: 0; height: 0; overflow: hidden\">\n",
       "<defs>\n",
       "<symbol id=\"icon-database\" viewBox=\"0 0 32 32\">\n",
       "<title>Show/Hide data repr</title>\n",
       "<path d=\"M16 0c-8.837 0-16 2.239-16 5v4c0 2.761 7.163 5 16 5s16-2.239 16-5v-4c0-2.761-7.163-5-16-5z\"></path>\n",
       "<path d=\"M16 17c-8.837 0-16-2.239-16-5v6c0 2.761 7.163 5 16 5s16-2.239 16-5v-6c0 2.761-7.163 5-16 5z\"></path>\n",
       "<path d=\"M16 26c-8.837 0-16-2.239-16-5v6c0 2.761 7.163 5 16 5s16-2.239 16-5v-6c0 2.761-7.163 5-16 5z\"></path>\n",
       "</symbol>\n",
       "<symbol id=\"icon-file-text2\" viewBox=\"0 0 32 32\">\n",
       "<title>Show/Hide attributes</title>\n",
       "<path d=\"M28.681 7.159c-0.694-0.947-1.662-2.053-2.724-3.116s-2.169-2.030-3.116-2.724c-1.612-1.182-2.393-1.319-2.841-1.319h-15.5c-1.378 0-2.5 1.121-2.5 2.5v27c0 1.378 1.122 2.5 2.5 2.5h23c1.378 0 2.5-1.122 2.5-2.5v-19.5c0-0.448-0.137-1.23-1.319-2.841zM24.543 5.457c0.959 0.959 1.712 1.825 2.268 2.543h-4.811v-4.811c0.718 0.556 1.584 1.309 2.543 2.268zM28 29.5c0 0.271-0.229 0.5-0.5 0.5h-23c-0.271 0-0.5-0.229-0.5-0.5v-27c0-0.271 0.229-0.5 0.5-0.5 0 0 15.499-0 15.5 0v7c0 0.552 0.448 1 1 1h7v19.5z\"></path>\n",
       "<path d=\"M23 26h-14c-0.552 0-1-0.448-1-1s0.448-1 1-1h14c0.552 0 1 0.448 1 1s-0.448 1-1 1z\"></path>\n",
       "<path d=\"M23 22h-14c-0.552 0-1-0.448-1-1s0.448-1 1-1h14c0.552 0 1 0.448 1 1s-0.448 1-1 1z\"></path>\n",
       "<path d=\"M23 18h-14c-0.552 0-1-0.448-1-1s0.448-1 1-1h14c0.552 0 1 0.448 1 1s-0.448 1-1 1z\"></path>\n",
       "</symbol>\n",
       "</defs>\n",
       "</svg>\n",
       "<style>/* CSS stylesheet for displaying xarray objects in jupyterlab.\n",
       " *\n",
       " */\n",
       "\n",
       ":root {\n",
       "  --xr-font-color0: var(--jp-content-font-color0, rgba(0, 0, 0, 1));\n",
       "  --xr-font-color2: var(--jp-content-font-color2, rgba(0, 0, 0, 0.54));\n",
       "  --xr-font-color3: var(--jp-content-font-color3, rgba(0, 0, 0, 0.38));\n",
       "  --xr-border-color: var(--jp-border-color2, #e0e0e0);\n",
       "  --xr-disabled-color: var(--jp-layout-color3, #bdbdbd);\n",
       "  --xr-background-color: var(--jp-layout-color0, white);\n",
       "  --xr-background-color-row-even: var(--jp-layout-color1, white);\n",
       "  --xr-background-color-row-odd: var(--jp-layout-color2, #eeeeee);\n",
       "}\n",
       "\n",
       ".xr-wrap {\n",
       "  min-width: 300px;\n",
       "  max-width: 700px;\n",
       "}\n",
       "\n",
       ".xr-header {\n",
       "  padding-top: 6px;\n",
       "  padding-bottom: 6px;\n",
       "  margin-bottom: 4px;\n",
       "  border-bottom: solid 1px var(--xr-border-color);\n",
       "}\n",
       "\n",
       ".xr-header > div,\n",
       ".xr-header > ul {\n",
       "  display: inline;\n",
       "  margin-top: 0;\n",
       "  margin-bottom: 0;\n",
       "}\n",
       "\n",
       ".xr-obj-type,\n",
       ".xr-array-name {\n",
       "  margin-left: 2px;\n",
       "  margin-right: 10px;\n",
       "}\n",
       "\n",
       ".xr-obj-type {\n",
       "  color: var(--xr-font-color2);\n",
       "}\n",
       "\n",
       ".xr-sections {\n",
       "  padding-left: 0 !important;\n",
       "  display: grid;\n",
       "  grid-template-columns: 150px auto auto 1fr 20px 20px;\n",
       "}\n",
       "\n",
       ".xr-section-item {\n",
       "  display: contents;\n",
       "}\n",
       "\n",
       ".xr-section-item input {\n",
       "  display: none;\n",
       "}\n",
       "\n",
       ".xr-section-item input + label {\n",
       "  color: var(--xr-disabled-color);\n",
       "}\n",
       "\n",
       ".xr-section-item input:enabled + label {\n",
       "  cursor: pointer;\n",
       "  color: var(--xr-font-color2);\n",
       "}\n",
       "\n",
       ".xr-section-item input:enabled + label:hover {\n",
       "  color: var(--xr-font-color0);\n",
       "}\n",
       "\n",
       ".xr-section-summary {\n",
       "  grid-column: 1;\n",
       "  color: var(--xr-font-color2);\n",
       "  font-weight: 500;\n",
       "}\n",
       "\n",
       ".xr-section-summary > span {\n",
       "  display: inline-block;\n",
       "  padding-left: 0.5em;\n",
       "}\n",
       "\n",
       ".xr-section-summary-in:disabled + label {\n",
       "  color: var(--xr-font-color2);\n",
       "}\n",
       "\n",
       ".xr-section-summary-in + label:before {\n",
       "  display: inline-block;\n",
       "  content: '►';\n",
       "  font-size: 11px;\n",
       "  width: 15px;\n",
       "  text-align: center;\n",
       "}\n",
       "\n",
       ".xr-section-summary-in:disabled + label:before {\n",
       "  color: var(--xr-disabled-color);\n",
       "}\n",
       "\n",
       ".xr-section-summary-in:checked + label:before {\n",
       "  content: '▼';\n",
       "}\n",
       "\n",
       ".xr-section-summary-in:checked + label > span {\n",
       "  display: none;\n",
       "}\n",
       "\n",
       ".xr-section-summary,\n",
       ".xr-section-inline-details {\n",
       "  padding-top: 4px;\n",
       "  padding-bottom: 4px;\n",
       "}\n",
       "\n",
       ".xr-section-inline-details {\n",
       "  grid-column: 2 / -1;\n",
       "}\n",
       "\n",
       ".xr-section-details {\n",
       "  display: none;\n",
       "  grid-column: 1 / -1;\n",
       "  margin-bottom: 5px;\n",
       "}\n",
       "\n",
       ".xr-section-summary-in:checked ~ .xr-section-details {\n",
       "  display: contents;\n",
       "}\n",
       "\n",
       ".xr-array-wrap {\n",
       "  grid-column: 1 / -1;\n",
       "  display: grid;\n",
       "  grid-template-columns: 20px auto;\n",
       "}\n",
       "\n",
       ".xr-array-wrap > label {\n",
       "  grid-column: 1;\n",
       "  vertical-align: top;\n",
       "}\n",
       "\n",
       ".xr-preview {\n",
       "  color: var(--xr-font-color3);\n",
       "}\n",
       "\n",
       ".xr-array-preview,\n",
       ".xr-array-data {\n",
       "  padding: 0 5px !important;\n",
       "  grid-column: 2;\n",
       "}\n",
       "\n",
       ".xr-array-data,\n",
       ".xr-array-in:checked ~ .xr-array-preview {\n",
       "  display: none;\n",
       "}\n",
       "\n",
       ".xr-array-in:checked ~ .xr-array-data,\n",
       ".xr-array-preview {\n",
       "  display: inline-block;\n",
       "}\n",
       "\n",
       ".xr-dim-list {\n",
       "  display: inline-block !important;\n",
       "  list-style: none;\n",
       "  padding: 0 !important;\n",
       "  margin: 0;\n",
       "}\n",
       "\n",
       ".xr-dim-list li {\n",
       "  display: inline-block;\n",
       "  padding: 0;\n",
       "  margin: 0;\n",
       "}\n",
       "\n",
       ".xr-dim-list:before {\n",
       "  content: '(';\n",
       "}\n",
       "\n",
       ".xr-dim-list:after {\n",
       "  content: ')';\n",
       "}\n",
       "\n",
       ".xr-dim-list li:not(:last-child):after {\n",
       "  content: ',';\n",
       "  padding-right: 5px;\n",
       "}\n",
       "\n",
       ".xr-has-index {\n",
       "  font-weight: bold;\n",
       "}\n",
       "\n",
       ".xr-var-list,\n",
       ".xr-var-item {\n",
       "  display: contents;\n",
       "}\n",
       "\n",
       ".xr-var-item > div,\n",
       ".xr-var-item label,\n",
       ".xr-var-item > .xr-var-name span {\n",
       "  background-color: var(--xr-background-color-row-even);\n",
       "  margin-bottom: 0;\n",
       "}\n",
       "\n",
       ".xr-var-item > .xr-var-name:hover span {\n",
       "  padding-right: 5px;\n",
       "}\n",
       "\n",
       ".xr-var-list > li:nth-child(odd) > div,\n",
       ".xr-var-list > li:nth-child(odd) > label,\n",
       ".xr-var-list > li:nth-child(odd) > .xr-var-name span {\n",
       "  background-color: var(--xr-background-color-row-odd);\n",
       "}\n",
       "\n",
       ".xr-var-name {\n",
       "  grid-column: 1;\n",
       "}\n",
       "\n",
       ".xr-var-dims {\n",
       "  grid-column: 2;\n",
       "}\n",
       "\n",
       ".xr-var-dtype {\n",
       "  grid-column: 3;\n",
       "  text-align: right;\n",
       "  color: var(--xr-font-color2);\n",
       "}\n",
       "\n",
       ".xr-var-preview {\n",
       "  grid-column: 4;\n",
       "}\n",
       "\n",
       ".xr-var-name,\n",
       ".xr-var-dims,\n",
       ".xr-var-dtype,\n",
       ".xr-preview,\n",
       ".xr-attrs dt {\n",
       "  white-space: nowrap;\n",
       "  overflow: hidden;\n",
       "  text-overflow: ellipsis;\n",
       "  padding-right: 10px;\n",
       "}\n",
       "\n",
       ".xr-var-name:hover,\n",
       ".xr-var-dims:hover,\n",
       ".xr-var-dtype:hover,\n",
       ".xr-attrs dt:hover {\n",
       "  overflow: visible;\n",
       "  width: auto;\n",
       "  z-index: 1;\n",
       "}\n",
       "\n",
       ".xr-var-attrs,\n",
       ".xr-var-data {\n",
       "  display: none;\n",
       "  background-color: var(--xr-background-color) !important;\n",
       "  padding-bottom: 5px !important;\n",
       "}\n",
       "\n",
       ".xr-var-attrs-in:checked ~ .xr-var-attrs,\n",
       ".xr-var-data-in:checked ~ .xr-var-data {\n",
       "  display: block;\n",
       "}\n",
       "\n",
       ".xr-var-data > table {\n",
       "  float: right;\n",
       "}\n",
       "\n",
       ".xr-var-name span,\n",
       ".xr-var-data,\n",
       ".xr-attrs {\n",
       "  padding-left: 25px !important;\n",
       "}\n",
       "\n",
       ".xr-attrs,\n",
       ".xr-var-attrs,\n",
       ".xr-var-data {\n",
       "  grid-column: 1 / -1;\n",
       "}\n",
       "\n",
       "dl.xr-attrs {\n",
       "  padding: 0;\n",
       "  margin: 0;\n",
       "  display: grid;\n",
       "  grid-template-columns: 125px auto;\n",
       "}\n",
       "\n",
       ".xr-attrs dt, dd {\n",
       "  padding: 0;\n",
       "  margin: 0;\n",
       "  float: left;\n",
       "  padding-right: 10px;\n",
       "  width: auto;\n",
       "}\n",
       "\n",
       ".xr-attrs dt {\n",
       "  font-weight: normal;\n",
       "  grid-column: 1;\n",
       "}\n",
       "\n",
       ".xr-attrs dt:hover span {\n",
       "  display: inline-block;\n",
       "  background: var(--xr-background-color);\n",
       "  padding-right: 10px;\n",
       "}\n",
       "\n",
       ".xr-attrs dd {\n",
       "  grid-column: 2;\n",
       "  white-space: pre-wrap;\n",
       "  word-break: break-all;\n",
       "}\n",
       "\n",
       ".xr-icon-database,\n",
       ".xr-icon-file-text2 {\n",
       "  display: inline-block;\n",
       "  vertical-align: middle;\n",
       "  width: 1em;\n",
       "  height: 1.5em !important;\n",
       "  stroke-width: 0;\n",
       "  stroke: currentColor;\n",
       "  fill: currentColor;\n",
       "}\n",
       "</style><div class='xr-wrap'><div class='xr-header'><div class='xr-obj-type'>xarray.DataArray</div><div class='xr-array-name'>'t'</div><ul class='xr-dim-list'><li><span class='xr-has-index'>latitude</span>: 720</li><li><span class='xr-has-index'>longitude</span>: 1440</li></ul></div><ul class='xr-sections'><li class='xr-section-item'><div class='xr-array-wrap'><input id='section-b12987b5-fc79-40f9-9f7c-ac6d1bec2502' class='xr-array-in' type='checkbox' ><label for='section-b12987b5-fc79-40f9-9f7c-ac6d1bec2502' title='Show/hide data repr'><svg class='icon xr-icon-database'><use xlink:href='#icon-database'></use></svg></label><div class='xr-array-preview xr-preview'><span>258.8 258.8 258.8 258.8 258.8 258.8 ... 228.2 228.2 228.1 228.2 228.2</span></div><pre class='xr-array-data'>array([[258.75289063, 258.76289063, 258.76289063, ..., 258.75289063,\n",
       "        258.76289063, 258.75289063],\n",
       "       [258.47289062, 258.48289062, 258.46289062, ..., 258.46289062,\n",
       "        258.47289062, 258.44289063],\n",
       "       [258.27289063, 258.26289063, 258.27289063, ..., 258.25289063,\n",
       "        258.26289063, 258.26289063],\n",
       "       ...,\n",
       "       [227.68289062, 227.68289062, 227.72289062, ..., 227.62289062,\n",
       "        227.75289062, 227.63289063],\n",
       "       [227.90289062, 227.90289062, 227.90289062, ..., 227.90289062,\n",
       "        227.88289063, 227.91289063],\n",
       "       [228.12289062, 228.18289062, 228.19289063, ..., 228.09289062,\n",
       "        228.23289063, 228.20289063]])</pre></div></li><li class='xr-section-item'><input id='section-bfa8c5c3-2e30-4468-9bd9-ae3ee9c5b5af' class='xr-section-summary-in' type='checkbox'  checked><label for='section-bfa8c5c3-2e30-4468-9bd9-ae3ee9c5b5af' class='xr-section-summary' >Coordinates: <span>(6)</span></label><div class='xr-section-inline-details'></div><div class='xr-section-details'><ul class='xr-var-list'><li class='xr-var-item'><div class='xr-var-name'><span>time</span></div><div class='xr-var-dims'>()</div><div class='xr-var-dtype'>datetime64[ns]</div><div class='xr-var-preview xr-preview'>2020-04-22</div><input id='attrs-4ead2255-bd79-498b-9a06-ff0df125a92e' class='xr-var-attrs-in' type='checkbox' disabled><label for='attrs-4ead2255-bd79-498b-9a06-ff0df125a92e' title='Show/Hide attributes'><svg class='icon xr-icon-file-text2'><use xlink:href='#icon-file-text2'></use></svg></label><input id='data-ac779fe5-666e-4a0b-8111-6de254da80ee' class='xr-var-data-in' type='checkbox'><label for='data-ac779fe5-666e-4a0b-8111-6de254da80ee' title='Show/Hide data repr'><svg class='icon xr-icon-database'><use xlink:href='#icon-database'></use></svg></label><div class='xr-var-attrs'><dl class='xr-attrs'></dl></div><pre class='xr-var-data'>array(&#x27;2020-04-22T00:00:00.000000000&#x27;, dtype=&#x27;datetime64[ns]&#x27;)</pre></li><li class='xr-var-item'><div class='xr-var-name'><span>step</span></div><div class='xr-var-dims'>()</div><div class='xr-var-dtype'>timedelta64[ns]</div><div class='xr-var-preview xr-preview'>1 days</div><input id='attrs-7567c238-43d6-499a-a61a-18931766bdf6' class='xr-var-attrs-in' type='checkbox' disabled><label for='attrs-7567c238-43d6-499a-a61a-18931766bdf6' title='Show/Hide attributes'><svg class='icon xr-icon-file-text2'><use xlink:href='#icon-file-text2'></use></svg></label><input id='data-ad6b9b63-59e3-4a2f-a7ed-11f3208b99f5' class='xr-var-data-in' type='checkbox'><label for='data-ad6b9b63-59e3-4a2f-a7ed-11f3208b99f5' title='Show/Hide data repr'><svg class='icon xr-icon-database'><use xlink:href='#icon-database'></use></svg></label><div class='xr-var-attrs'><dl class='xr-attrs'></dl></div><pre class='xr-var-data'>array(86400000000000, dtype=&#x27;timedelta64[ns]&#x27;)</pre></li><li class='xr-var-item'><div class='xr-var-name'><span>valid_time</span></div><div class='xr-var-dims'>()</div><div class='xr-var-dtype'>datetime64[ns]</div><div class='xr-var-preview xr-preview'>2020-04-23</div><input id='attrs-410440af-cb3e-4f5f-948a-5a79be5f7315' class='xr-var-attrs-in' type='checkbox' disabled><label for='attrs-410440af-cb3e-4f5f-948a-5a79be5f7315' title='Show/Hide attributes'><svg class='icon xr-icon-file-text2'><use xlink:href='#icon-file-text2'></use></svg></label><input id='data-46639f19-db97-4a4e-ba03-438925de50e5' class='xr-var-data-in' type='checkbox'><label for='data-46639f19-db97-4a4e-ba03-438925de50e5' title='Show/Hide data repr'><svg class='icon xr-icon-database'><use xlink:href='#icon-database'></use></svg></label><div class='xr-var-attrs'><dl class='xr-attrs'></dl></div><pre class='xr-var-data'>array(&#x27;2020-04-23T00:00:00.000000000&#x27;, dtype=&#x27;datetime64[ns]&#x27;)</pre></li><li class='xr-var-item'><div class='xr-var-name'><span>pl</span></div><div class='xr-var-dims'>()</div><div class='xr-var-dtype'>float64</div><div class='xr-var-preview xr-preview'>850.0</div><input id='attrs-aba920ae-5b12-4896-81b9-1cc9ff178846' class='xr-var-attrs-in' type='checkbox' disabled><label for='attrs-aba920ae-5b12-4896-81b9-1cc9ff178846' title='Show/Hide attributes'><svg class='icon xr-icon-file-text2'><use xlink:href='#icon-file-text2'></use></svg></label><input id='data-6c639c38-3eee-40e2-8f38-b39b0f097777' class='xr-var-data-in' type='checkbox'><label for='data-6c639c38-3eee-40e2-8f38-b39b0f097777' title='Show/Hide data repr'><svg class='icon xr-icon-database'><use xlink:href='#icon-database'></use></svg></label><div class='xr-var-attrs'><dl class='xr-attrs'></dl></div><pre class='xr-var-data'>array(850.)</pre></li><li class='xr-var-item'><div class='xr-var-name'><span class='xr-has-index'>latitude</span></div><div class='xr-var-dims'>(latitude)</div><div class='xr-var-dtype'>float64</div><div class='xr-var-preview xr-preview'>89.88 89.62 89.38 ... -89.62 -89.88</div><input id='attrs-7aebc492-3e08-44f7-a4c8-e68faa5cf925' class='xr-var-attrs-in' type='checkbox' disabled><label for='attrs-7aebc492-3e08-44f7-a4c8-e68faa5cf925' title='Show/Hide attributes'><svg class='icon xr-icon-file-text2'><use xlink:href='#icon-file-text2'></use></svg></label><input id='data-af573e27-d201-4e69-800d-dffe64d3ba49' class='xr-var-data-in' type='checkbox'><label for='data-af573e27-d201-4e69-800d-dffe64d3ba49' title='Show/Hide data repr'><svg class='icon xr-icon-database'><use xlink:href='#icon-database'></use></svg></label><div class='xr-var-attrs'><dl class='xr-attrs'></dl></div><pre class='xr-var-data'>array([ 89.875,  89.625,  89.375, ..., -89.375, -89.625, -89.875])</pre></li><li class='xr-var-item'><div class='xr-var-name'><span class='xr-has-index'>longitude</span></div><div class='xr-var-dims'>(longitude)</div><div class='xr-var-dtype'>float64</div><div class='xr-var-preview xr-preview'>0.0 0.25 0.5 ... 359.2 359.5 359.8</div><input id='attrs-df5f13d5-cd64-4085-bcaf-429355d2724c' class='xr-var-attrs-in' type='checkbox' disabled><label for='attrs-df5f13d5-cd64-4085-bcaf-429355d2724c' title='Show/Hide attributes'><svg class='icon xr-icon-file-text2'><use xlink:href='#icon-file-text2'></use></svg></label><input id='data-87302c6a-5d8c-4d94-81cd-913102c93606' class='xr-var-data-in' type='checkbox'><label for='data-87302c6a-5d8c-4d94-81cd-913102c93606' title='Show/Hide data repr'><svg class='icon xr-icon-database'><use xlink:href='#icon-database'></use></svg></label><div class='xr-var-attrs'><dl class='xr-attrs'></dl></div><pre class='xr-var-data'>array([0.0000e+00, 2.5000e-01, 5.0000e-01, ..., 3.5925e+02, 3.5950e+02,\n",
       "       3.5975e+02])</pre></li></ul></div></li><li class='xr-section-item'><input id='section-d2927b21-21c9-4850-bd10-5bb2f537a790' class='xr-section-summary-in' type='checkbox'  ><label for='section-d2927b21-21c9-4850-bd10-5bb2f537a790' class='xr-section-summary' >Attributes: <span>(31)</span></label><div class='xr-section-inline-details'></div><div class='xr-section-details'><dl class='xr-attrs'><dt><span>GRIB_edition :</span></dt><dd>2</dd><dt><span>GRIB_centre :</span></dt><dd>babj</dd><dt><span>GRIB_subCentre :</span></dt><dd>0</dd><dt><span>GRIB_tablesVersion :</span></dt><dd>4</dd><dt><span>GRIB_localTablesVersion :</span></dt><dd>1</dd><dt><span>GRIB_dataType :</span></dt><dd>fc</dd><dt><span>GRIB_dataDate :</span></dt><dd>20200422</dd><dt><span>GRIB_dataTime :</span></dt><dd>0</dd><dt><span>GRIB_validityDate :</span></dt><dd>20200423</dd><dt><span>GRIB_validityTime :</span></dt><dd>0</dd><dt><span>GRIB_step :</span></dt><dd>24</dd><dt><span>GRIB_stepType :</span></dt><dd>instant</dd><dt><span>GRIB_stepUnits :</span></dt><dd>1</dd><dt><span>GRIB_stepRange :</span></dt><dd>24</dd><dt><span>GRIB_endStep :</span></dt><dd>24</dd><dt><span>GRIB_name :</span></dt><dd>Temperature</dd><dt><span>GRIB_shortName :</span></dt><dd>t</dd><dt><span>GRIB_cfName :</span></dt><dd>air_temperature</dd><dt><span>GRIB_discipline :</span></dt><dd>0</dd><dt><span>GRIB_parameterCategory :</span></dt><dd>0</dd><dt><span>GRIB_parameterNumber :</span></dt><dd>0</dd><dt><span>GRIB_gridType :</span></dt><dd>regular_ll</dd><dt><span>GRIB_gridDefinitionDescription :</span></dt><dd>Latitude/longitude </dd><dt><span>GRIB_typeOfFirstFixedSurface :</span></dt><dd>pl</dd><dt><span>GRIB_typeOfLevel :</span></dt><dd>isobaricInhPa</dd><dt><span>GRIB_level :</span></dt><dd>850</dd><dt><span>GRIB_numberOfPoints :</span></dt><dd>1036800</dd><dt><span>GRIB_missingValue :</span></dt><dd>9999</dd><dt><span>GRIB_units :</span></dt><dd>K</dd><dt><span>long_name :</span></dt><dd>Temperature</dd><dt><span>units :</span></dt><dd>K</dd></dl></div></li></ul></div></div>"
      ],
      "text/plain": [
       "<xarray.DataArray 't' (latitude: 720, longitude: 1440)>\n",
       "array([[258.75289063, 258.76289063, 258.76289063, ..., 258.75289063,\n",
       "        258.76289063, 258.75289063],\n",
       "       [258.47289062, 258.48289062, 258.46289062, ..., 258.46289062,\n",
       "        258.47289062, 258.44289063],\n",
       "       [258.27289063, 258.26289063, 258.27289063, ..., 258.25289063,\n",
       "        258.26289063, 258.26289063],\n",
       "       ...,\n",
       "       [227.68289062, 227.68289062, 227.72289062, ..., 227.62289062,\n",
       "        227.75289062, 227.63289063],\n",
       "       [227.90289062, 227.90289062, 227.90289062, ..., 227.90289062,\n",
       "        227.88289063, 227.91289063],\n",
       "       [228.12289062, 228.18289062, 228.19289063, ..., 228.09289062,\n",
       "        228.23289063, 228.20289063]])\n",
       "Coordinates:\n",
       "    time        datetime64[ns] 2020-04-22\n",
       "    step        timedelta64[ns] 1 days\n",
       "    valid_time  datetime64[ns] 2020-04-23\n",
       "    pl          float64 850.0\n",
       "  * latitude    (latitude) float64 89.88 89.62 89.38 ... -89.38 -89.62 -89.88\n",
       "  * longitude   (longitude) float64 0.0 0.25 0.5 0.75 ... 359.2 359.5 359.8\n",
       "Attributes:\n",
       "    GRIB_edition:                    2\n",
       "    GRIB_centre:                     babj\n",
       "    GRIB_subCentre:                  0\n",
       "    GRIB_tablesVersion:              4\n",
       "    GRIB_localTablesVersion:         1\n",
       "    GRIB_dataType:                   fc\n",
       "    GRIB_dataDate:                   20200422\n",
       "    GRIB_dataTime:                   0\n",
       "    GRIB_validityDate:               20200423\n",
       "    GRIB_validityTime:               0\n",
       "    GRIB_step:                       24\n",
       "    GRIB_stepType:                   instant\n",
       "    GRIB_stepUnits:                  1\n",
       "    GRIB_stepRange:                  24\n",
       "    GRIB_endStep:                    24\n",
       "    GRIB_name:                       Temperature\n",
       "    GRIB_shortName:                  t\n",
       "    GRIB_cfName:                     air_temperature\n",
       "    GRIB_discipline:                 0\n",
       "    GRIB_parameterCategory:          0\n",
       "    GRIB_parameterNumber:            0\n",
       "    GRIB_gridType:                   regular_ll\n",
       "    GRIB_gridDefinitionDescription:  Latitude/longitude \n",
       "    GRIB_typeOfFirstFixedSurface:    pl\n",
       "    GRIB_typeOfLevel:                isobaricInhPa\n",
       "    GRIB_level:                      850\n",
       "    GRIB_numberOfPoints:             1036800\n",
       "    GRIB_missingValue:               9999\n",
       "    GRIB_units:                      K\n",
       "    long_name:                       Temperature\n",
       "    units:                           K"
      ]
     },
     "execution_count": 35,
     "metadata": {},
     "output_type": "execute_result"
    }
   ],
   "source": [
    "from nwpc_data.grib.eccodes import load_field_from_file\n",
    "\n",
    "t850 = load_field_from_file(\n",
    "    data_path,\n",
    "    parameter=\"t\",\n",
    "    level_type=\"pl\",\n",
    "    level=850,\n",
    ")\n",
    "t850"
   ]
  },
  {
   "cell_type": "markdown",
   "metadata": {},
   "source": [
    "## 下一步\n",
    "\n",
    "请浏览下一章节 [介绍和安装](./01_introduction.ipynb)。"
   ]
  },
  {
   "cell_type": "code",
   "execution_count": null,
   "metadata": {},
   "outputs": [],
   "source": []
  }
 ],
 "metadata": {
  "kernelspec": {
   "display_name": "Python 3",
   "language": "python",
   "name": "python3"
  },
  "language_info": {
   "codemirror_mode": {
    "name": "ipython",
    "version": 3
   },
   "file_extension": ".py",
   "mimetype": "text/x-python",
   "name": "python",
   "nbconvert_exporter": "python",
   "pygments_lexer": "ipython3",
   "version": "3.7.6"
  }
 },
 "nbformat": 4,
 "nbformat_minor": 4
}
