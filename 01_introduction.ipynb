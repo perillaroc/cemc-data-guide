{
 "cells": [
  {
   "cell_type": "markdown",
   "metadata": {},
   "source": [
    "# 介绍"
   ]
  },
  {
   "cell_type": "markdown",
   "metadata": {},
   "source": [
    "nwpc-data 是为 GRAPES 系列模式开发的 GRIB 2 数据访问工具库，提供检索要素场的便捷方法，支持气象局 CMA-PI 高性能计算机和二级存储。\n",
    "\n",
    "nwpc-data 内部使用 [eccodes-python](https://github.com/ecmwf/eccodes-python) 解码 GRIB 2 文件。\n",
    "\n",
    "目前 nwpc-data 提供以下功能：\n",
    "\n",
    "- 获取业务系统产品文件路径\n",
    "- 从 GRIB 2 文件中检索要素场"
   ]
  },
  {
   "cell_type": "markdown",
   "metadata": {},
   "source": [
    "## 安装\n",
    "\n",
    "从 Github 中下载最新的源代码：\n",
    "\n",
    "    https://github.com/nwpc-oper/nwpc-data\n",
    "    \n",
    "使用 `pip` 命令安装：\n",
    "\n",
    "```\n",
    "pip install .\n",
    "```"
   ]
  },
  {
   "cell_type": "markdown",
   "metadata": {},
   "source": [
    "### CMA-PI\n",
    "\n",
    "本项目已在中国气象局 CMA-PI 高性能计算机上进行测试，使用如下环境：\n",
    "\n",
    "```bash\n",
    "module load apps/eccodes/2.17.0/intel\n",
    "# module load compiler/intel/composer_xe_2018.1.163\n",
    "module load apps/python/3.6.3/gnu\n",
    "```\n",
    "\n",
    "安装 nwpc-data 前需要单独安装依赖库 eccodes-python，可以使用下面的命令安装。\n",
    "\n",
    "```bash\n",
    "pip install --user /g11/wangdp/lib/python/attrs-19.3.0-py2.py3-none-any.whl\n",
    "pip install --user /g11/wangdp/lib/python/eccodes_python-0.9.7-py2.py3-none-any.whl\n",
    "```\n",
    "\n",
    "CMA-PI 上已保存 nwpc-data 的最新版本，使用下面的命令将软件包安装到用户目录。\n",
    "\n",
    "```bash\n",
    "pip install --user /g11/nwp_xp/wangdp/project/data/nwpc-data/nwpc-data\n",
    "```"
   ]
  },
  {
   "cell_type": "markdown",
   "metadata": {},
   "source": [
    "## 下一步\n",
    "\n",
    "nwpc-data 提供两种方式检索 GRIB 2 文件中的要素场。\n",
    "\n",
    "[加载 GRIB 2 消息](./02.1_message.ipynb) 介绍返回 GRIB 2 handler 的函数。\n",
    "\n",
    "[加载 GRIB 2 要素场](./02.2_field.ipynb) 介绍返回 `xarray.DataArray` 的函数。\n",
    "\n",
    "快速浏览 nwpc-data 的功能，请查看 [快速开始](./00_quickstart.ipynb) 章节。"
   ]
  },
  {
   "cell_type": "code",
   "execution_count": null,
   "metadata": {},
   "outputs": [],
   "source": []
  }
 ],
 "metadata": {
  "kernelspec": {
   "display_name": "Python 3",
   "language": "python",
   "name": "python3"
  },
  "language_info": {
   "codemirror_mode": {
    "name": "ipython",
    "version": 3
   },
   "file_extension": ".py",
   "mimetype": "text/x-python",
   "name": "python",
   "nbconvert_exporter": "python",
   "pygments_lexer": "ipython3",
   "version": "3.7.8"
  }
 },
 "nbformat": 4,
 "nbformat_minor": 4
}
