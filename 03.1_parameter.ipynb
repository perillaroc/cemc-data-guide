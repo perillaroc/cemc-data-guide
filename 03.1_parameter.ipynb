{
 "cells": [
  {
   "cell_type": "markdown",
   "metadata": {},
   "source": [
    "# 要素名称"
   ]
  },
  {
   "cell_type": "code",
   "execution_count": 2,
   "metadata": {},
   "outputs": [
    {
     "data": {
      "text/plain": [
       "<xarray.core.options.set_options at 0x7f3e4e6fecd0>"
      ]
     },
     "execution_count": 2,
     "metadata": {},
     "output_type": "execute_result"
    }
   ],
   "source": [
    "import xarray as xr\n",
    "\n",
    "xr.set_options(display_style=\"text\")"
   ]
  },
  {
   "cell_type": "markdown",
   "metadata": {},
   "source": [
    "nwpc-data 中的 `load_` 系列函数，使用 `parameter` 参数指定想要获取的要素名称。\n",
    "\n",
    "`parameter` 可以接收以下类型的参数：\n",
    "\n",
    "- `str`：使用变量的 `shortName` 检索\n",
    "- `dict`：设置用于过滤的键值对"
   ]
  },
  {
   "cell_type": "code",
   "execution_count": 3,
   "metadata": {},
   "outputs": [],
   "source": [
    "from reki.format.grib.eccodes import (\n",
    "    load_message_from_file,\n",
    "    load_field_from_file,\n",
    ")"
   ]
  },
  {
   "cell_type": "markdown",
   "metadata": {},
   "source": [
    "## 准备数据\n",
    "\n",
    "本示例使用 GRAPES GFS 的 GRIB 2 数据为例。\n",
    "\n",
    "获取 GRAPES GFS 2020 年 4 月 19 日 00 时次 024 时效的 GRIB 2 文件路径"
   ]
  },
  {
   "cell_type": "code",
   "execution_count": 4,
   "metadata": {},
   "outputs": [
    {
     "data": {
      "text/plain": [
       "PosixPath('/sstorage1/COMMONDATA/OPER/NWPC/GRAPES_GFS_GMF/Prod-grib/2020041900/ORIG/gmf.gra.2020041900024.grb2')"
      ]
     },
     "execution_count": 4,
     "metadata": {},
     "output_type": "execute_result"
    }
   ],
   "source": [
    "from reki.data_finder import find_local_file\n",
    "\n",
    "data_path = find_local_file(\n",
    "    \"grapes_gfs_gmf/grib2/orig\",\n",
    "    start_time=\"2020041900\",\n",
    "    forecast_time=\"024h\",\n",
    ")\n",
    "data_path"
   ]
  },
  {
   "cell_type": "markdown",
   "metadata": {},
   "source": [
    "## shortName\n",
    "\n",
    "通常情况下，可以使用要素的 `shortName`，比如温度 `t`，位势高度 `gh`，湿度 `q` 等等。"
   ]
  },
  {
   "cell_type": "code",
   "execution_count": 5,
   "metadata": {},
   "outputs": [
    {
     "data": {
      "text/html": [
       "<pre>&lt;xarray.DataArray &#x27;t&#x27; (latitude: 720, longitude: 1440)&gt;\n",
       "array([[265.05535156, 265.09535156, 265.05535156, ..., 265.11535156,\n",
       "        265.04535156, 265.08535156],\n",
       "       [264.94535156, 264.94535156, 264.97535156, ..., 264.94535156,\n",
       "        264.92535156, 264.94535156],\n",
       "       [264.76535156, 264.77535156, 264.79535156, ..., 264.75535156,\n",
       "        264.74535156, 264.77535156],\n",
       "       ...,\n",
       "       [242.90535156, 242.60535156, 242.67535156, ..., 242.81535156,\n",
       "        242.77535156, 242.77535156],\n",
       "       [242.60535156, 242.61535156, 242.61535156, ..., 242.55535156,\n",
       "        242.71535156, 242.77535156],\n",
       "       [242.55535156, 242.53535156, 242.63535156, ..., 242.57535156,\n",
       "        242.53535156, 242.57535156]])\n",
       "Coordinates:\n",
       "    time           datetime64[ns] 2020-04-19\n",
       "    step           timedelta64[ns] 1 days\n",
       "    valid_time     datetime64[ns] 2020-04-20\n",
       "    isobaricInhPa  int64 850\n",
       "  * latitude       (latitude) float64 89.88 89.62 89.38 ... -89.38 -89.62 -89.88\n",
       "  * longitude      (longitude) float64 0.0 0.25 0.5 0.75 ... 359.2 359.5 359.8\n",
       "Attributes:\n",
       "    GRIB_edition:                    2\n",
       "    GRIB_centre:                     babj\n",
       "    GRIB_subCentre:                  0\n",
       "    GRIB_tablesVersion:              4\n",
       "    GRIB_localTablesVersion:         1\n",
       "    GRIB_dataType:                   fc\n",
       "    GRIB_dataDate:                   20200419\n",
       "    GRIB_dataTime:                   0\n",
       "    GRIB_validityDate:               20200420\n",
       "    GRIB_validityTime:               0\n",
       "    GRIB_step:                       24\n",
       "    GRIB_stepType:                   instant\n",
       "    GRIB_stepUnits:                  1\n",
       "    GRIB_stepRange:                  24\n",
       "    GRIB_endStep:                    24\n",
       "    GRIB_name:                       Temperature\n",
       "    GRIB_shortName:                  t\n",
       "    GRIB_cfName:                     air_temperature\n",
       "    GRIB_discipline:                 0\n",
       "    GRIB_parameterCategory:          0\n",
       "    GRIB_parameterNumber:            0\n",
       "    GRIB_gridType:                   regular_ll\n",
       "    GRIB_gridDefinitionDescription:  Latitude/longitude \n",
       "    GRIB_typeOfFirstFixedSurface:    pl\n",
       "    GRIB_typeOfLevel:                isobaricInhPa\n",
       "    GRIB_level:                      850\n",
       "    GRIB_numberOfPoints:             1036800\n",
       "    GRIB_missingValue:               9999\n",
       "    GRIB_units:                      K\n",
       "    long_name:                       Temperature\n",
       "    units:                           K</pre>"
      ],
      "text/plain": [
       "<xarray.DataArray 't' (latitude: 720, longitude: 1440)>\n",
       "array([[265.05535156, 265.09535156, 265.05535156, ..., 265.11535156,\n",
       "        265.04535156, 265.08535156],\n",
       "       [264.94535156, 264.94535156, 264.97535156, ..., 264.94535156,\n",
       "        264.92535156, 264.94535156],\n",
       "       [264.76535156, 264.77535156, 264.79535156, ..., 264.75535156,\n",
       "        264.74535156, 264.77535156],\n",
       "       ...,\n",
       "       [242.90535156, 242.60535156, 242.67535156, ..., 242.81535156,\n",
       "        242.77535156, 242.77535156],\n",
       "       [242.60535156, 242.61535156, 242.61535156, ..., 242.55535156,\n",
       "        242.71535156, 242.77535156],\n",
       "       [242.55535156, 242.53535156, 242.63535156, ..., 242.57535156,\n",
       "        242.53535156, 242.57535156]])\n",
       "Coordinates:\n",
       "    time           datetime64[ns] 2020-04-19\n",
       "    step           timedelta64[ns] 1 days\n",
       "    valid_time     datetime64[ns] 2020-04-20\n",
       "    isobaricInhPa  int64 850\n",
       "  * latitude       (latitude) float64 89.88 89.62 89.38 ... -89.38 -89.62 -89.88\n",
       "  * longitude      (longitude) float64 0.0 0.25 0.5 0.75 ... 359.2 359.5 359.8\n",
       "Attributes:\n",
       "    GRIB_edition:                    2\n",
       "    GRIB_centre:                     babj\n",
       "    GRIB_subCentre:                  0\n",
       "    GRIB_tablesVersion:              4\n",
       "    GRIB_localTablesVersion:         1\n",
       "    GRIB_dataType:                   fc\n",
       "    GRIB_dataDate:                   20200419\n",
       "    GRIB_dataTime:                   0\n",
       "    GRIB_validityDate:               20200420\n",
       "    GRIB_validityTime:               0\n",
       "    GRIB_step:                       24\n",
       "    GRIB_stepType:                   instant\n",
       "    GRIB_stepUnits:                  1\n",
       "    GRIB_stepRange:                  24\n",
       "    GRIB_endStep:                    24\n",
       "    GRIB_name:                       Temperature\n",
       "    GRIB_shortName:                  t\n",
       "    GRIB_cfName:                     air_temperature\n",
       "    GRIB_discipline:                 0\n",
       "    GRIB_parameterCategory:          0\n",
       "    GRIB_parameterNumber:            0\n",
       "    GRIB_gridType:                   regular_ll\n",
       "    GRIB_gridDefinitionDescription:  Latitude/longitude \n",
       "    GRIB_typeOfFirstFixedSurface:    pl\n",
       "    GRIB_typeOfLevel:                isobaricInhPa\n",
       "    GRIB_level:                      850\n",
       "    GRIB_numberOfPoints:             1036800\n",
       "    GRIB_missingValue:               9999\n",
       "    GRIB_units:                      K\n",
       "    long_name:                       Temperature\n",
       "    units:                           K"
      ]
     },
     "execution_count": 5,
     "metadata": {},
     "output_type": "execute_result"
    }
   ],
   "source": [
    "t850 = load_field_from_file(\n",
    "    data_path,\n",
    "    parameter=\"t\",\n",
    "    level_type=\"isobaricInhPa\",\n",
    "    level=850,\n",
    ")\n",
    "t850"
   ]
  },
  {
   "cell_type": "markdown",
   "metadata": {},
   "source": [
    "`shortName` 是 eccodes 中使用的 GRIB key。\n",
    "具体名称可以运行 `grib_ls` 命令浏览 GRIB 2 文件。\n",
    "\n",
    "下面的命令使用 `grib_ls` 浏览 GRIB 2 文件，只显示前 10 行输出结果。"
   ]
  },
  {
   "cell_type": "code",
   "execution_count": 6,
   "metadata": {},
   "outputs": [
    {
     "name": "stdout",
     "output_type": "stream",
     "text": [
      "/sstorage1/COMMONDATA/OPER/NWPC/GRAPES_GFS_GMF/Prod-grib/2020041900/ORIG/gmf.gra.2020041900024.grb2\n",
      "edition      centre       date         dataType     gridType     typeOfLevel  level        stepRange    shortName    packingType  \n",
      "2            babj         20200419     fc           regular_ll   surface      0            0-24         acpcp        grid_jpeg   \n",
      "2            babj         20200419     fc           regular_ll   surface      0            0-24         ncpcp        grid_jpeg   \n",
      "2            babj         20200419     fc           regular_ll   surface      0            0-24         unknown      grid_jpeg   \n",
      "2            babj         20200419     fc           regular_ll   surface      0            0-24         asnow        grid_jpeg   \n",
      "2            babj         20200419     fc           regular_ll   surface      0            24           t            grid_jpeg   \n",
      "2            babj         20200419     fc           regular_ll   surface      0            0-24         str          grid_jpeg   \n",
      "2            babj         20200419     fc           regular_ll   surface      0            0-24         ssr          grid_jpeg   \n",
      "2            babj         20200419     fc           regular_ll   surface      0            24           hflux        grid_jpeg   \n"
     ]
    }
   ],
   "source": [
    "!grib_ls {data_path} | head -n 10"
   ]
  },
  {
   "cell_type": "markdown",
   "metadata": {},
   "source": [
    "可以看到，`grib_ls` 仅能识别部分要素场的 `shortName`，无法识别的被标记为 `unknown`。\n",
    "\n",
    "对于这类变量，就需要使用到下面的方法。"
   ]
  },
  {
   "cell_type": "markdown",
   "metadata": {},
   "source": [
    "### 练习\n",
    "\n",
    "检索 500hPa 位势高度场（`gh`）"
   ]
  },
  {
   "cell_type": "code",
   "execution_count": null,
   "metadata": {},
   "outputs": [],
   "source": []
  },
  {
   "cell_type": "markdown",
   "metadata": {},
   "source": [
    "## dict\n",
    "\n",
    "GRIB 2 消息的变量可以通过三个 GRIB Key 唯一确定：\n",
    "\n",
    "- discipline\n",
    "- parameterCategory\n",
    "- parameterNumber\n",
    "\n",
    "`parameter` 参数支持 dict 类型，用于指定包含上述 key 的键值对形式的过滤条件。\n",
    "\n",
    "我们首先使用 `grib_ls` 命令看一下前三个要素场的 key 值。"
   ]
  },
  {
   "cell_type": "code",
   "execution_count": 7,
   "metadata": {},
   "outputs": [
    {
     "name": "stdout",
     "output_type": "stream",
     "text": [
      "/sstorage1/COMMONDATA/OPER/NWPC/GRAPES_GFS_GMF/Prod-grib/2020041900/ORIG/gmf.gra.2020041900024.grb2\n",
      "discipline         parameterCategory  parameterNumber    shortName          name               \n",
      "0                  1                  10                 acpcp              Convective precipitation (water) \n",
      "0                  1                  9                  ncpcp              Large scale precipitation (non-convective) \n",
      "0                  1                  8                  unknown            unknown           \n",
      "3 of 3 messages in /sstorage1/COMMONDATA/OPER/NWPC/GRAPES_GFS_GMF/Prod-grib/2020041900/ORIG/gmf.gra.2020041900024.grb2\n",
      "\n",
      "3 of 3 total messages in 1 files\n"
     ]
    }
   ],
   "source": [
    "!grib_ls -w count=1/2/3 -p discipline,parameterCategory,parameterNumber,shortName,name {data_path}"
   ]
  },
  {
   "cell_type": "markdown",
   "metadata": {},
   "source": [
    "可以使用下面的代码检索第三个要素场"
   ]
  },
  {
   "cell_type": "code",
   "execution_count": 8,
   "metadata": {},
   "outputs": [
    {
     "data": {
      "text/html": [
       "<pre>&lt;xarray.DataArray &#x27;unknown&#x27; (latitude: 720, longitude: 1440)&gt;\n",
       "array([[0.57648 , 0.576544, 0.57656 , ..., 0.576176, 0.576224, 0.576416],\n",
       "       [0.542784, 0.542736, 0.542816, ..., 0.542928, 0.542672, 0.54264 ],\n",
       "       [0.524768, 0.52544 , 0.525712, ..., 0.523952, 0.524896, 0.52528 ],\n",
       "       ...,\n",
       "       [0.372256, 0.373584, 0.365424, ..., 0.36592 , 0.365648, 0.36568 ],\n",
       "       [0.340464, 0.338672, 0.34344 , ..., 0.32928 , 0.335216, 0.337184],\n",
       "       [0.311344, 0.309776, 0.30952 , ..., 0.305648, 0.311072, 0.309088]])\n",
       "Coordinates:\n",
       "    time        datetime64[ns] 2020-04-19\n",
       "    step        timedelta64[ns] 1 days\n",
       "    valid_time  datetime64[ns] 2020-04-20\n",
       "    surface     int64 0\n",
       "  * latitude    (latitude) float64 89.88 89.62 89.38 ... -89.38 -89.62 -89.88\n",
       "  * longitude   (longitude) float64 0.0 0.25 0.5 0.75 ... 359.2 359.5 359.8\n",
       "Attributes:\n",
       "    GRIB_edition:                    2\n",
       "    GRIB_centre:                     babj\n",
       "    GRIB_subCentre:                  0\n",
       "    GRIB_tablesVersion:              4\n",
       "    GRIB_localTablesVersion:         1\n",
       "    GRIB_dataType:                   fc\n",
       "    GRIB_dataDate:                   20200419\n",
       "    GRIB_dataTime:                   0\n",
       "    GRIB_validityDate:               20200420\n",
       "    GRIB_validityTime:               0\n",
       "    GRIB_step:                       24\n",
       "    GRIB_stepType:                   accum\n",
       "    GRIB_stepUnits:                  1\n",
       "    GRIB_stepRange:                  0-24\n",
       "    GRIB_endStep:                    24\n",
       "    GRIB_discipline:                 0\n",
       "    GRIB_parameterCategory:          1\n",
       "    GRIB_parameterNumber:            8\n",
       "    GRIB_gridType:                   regular_ll\n",
       "    GRIB_gridDefinitionDescription:  Latitude/longitude \n",
       "    GRIB_typeOfFirstFixedSurface:    sfc\n",
       "    GRIB_typeOfLevel:                surface\n",
       "    GRIB_level:                      0\n",
       "    GRIB_numberOfPoints:             1036800\n",
       "    GRIB_missingValue:               9999\n",
       "    long_name:                       discipline=0 parmcat=1 parm=8</pre>"
      ],
      "text/plain": [
       "<xarray.DataArray 'unknown' (latitude: 720, longitude: 1440)>\n",
       "array([[0.57648 , 0.576544, 0.57656 , ..., 0.576176, 0.576224, 0.576416],\n",
       "       [0.542784, 0.542736, 0.542816, ..., 0.542928, 0.542672, 0.54264 ],\n",
       "       [0.524768, 0.52544 , 0.525712, ..., 0.523952, 0.524896, 0.52528 ],\n",
       "       ...,\n",
       "       [0.372256, 0.373584, 0.365424, ..., 0.36592 , 0.365648, 0.36568 ],\n",
       "       [0.340464, 0.338672, 0.34344 , ..., 0.32928 , 0.335216, 0.337184],\n",
       "       [0.311344, 0.309776, 0.30952 , ..., 0.305648, 0.311072, 0.309088]])\n",
       "Coordinates:\n",
       "    time        datetime64[ns] 2020-04-19\n",
       "    step        timedelta64[ns] 1 days\n",
       "    valid_time  datetime64[ns] 2020-04-20\n",
       "    surface     int64 0\n",
       "  * latitude    (latitude) float64 89.88 89.62 89.38 ... -89.38 -89.62 -89.88\n",
       "  * longitude   (longitude) float64 0.0 0.25 0.5 0.75 ... 359.2 359.5 359.8\n",
       "Attributes:\n",
       "    GRIB_edition:                    2\n",
       "    GRIB_centre:                     babj\n",
       "    GRIB_subCentre:                  0\n",
       "    GRIB_tablesVersion:              4\n",
       "    GRIB_localTablesVersion:         1\n",
       "    GRIB_dataType:                   fc\n",
       "    GRIB_dataDate:                   20200419\n",
       "    GRIB_dataTime:                   0\n",
       "    GRIB_validityDate:               20200420\n",
       "    GRIB_validityTime:               0\n",
       "    GRIB_step:                       24\n",
       "    GRIB_stepType:                   accum\n",
       "    GRIB_stepUnits:                  1\n",
       "    GRIB_stepRange:                  0-24\n",
       "    GRIB_endStep:                    24\n",
       "    GRIB_discipline:                 0\n",
       "    GRIB_parameterCategory:          1\n",
       "    GRIB_parameterNumber:            8\n",
       "    GRIB_gridType:                   regular_ll\n",
       "    GRIB_gridDefinitionDescription:  Latitude/longitude \n",
       "    GRIB_typeOfFirstFixedSurface:    sfc\n",
       "    GRIB_typeOfLevel:                surface\n",
       "    GRIB_level:                      0\n",
       "    GRIB_numberOfPoints:             1036800\n",
       "    GRIB_missingValue:               9999\n",
       "    long_name:                       discipline=0 parmcat=1 parm=8"
      ]
     },
     "execution_count": 8,
     "metadata": {},
     "output_type": "execute_result"
    }
   ],
   "source": [
    "apcp = load_field_from_file(\n",
    "    data_path,\n",
    "    parameter={\n",
    "        \"discipline\": 0,\n",
    "        \"parameterCategory\": 1,\n",
    "        \"parameterNumber\": 8\n",
    "    },\n",
    "    level_type=\"surface\",\n",
    "    level=0,\n",
    ")\n",
    "apcp"
   ]
  },
  {
   "cell_type": "markdown",
   "metadata": {},
   "source": [
    "实际上，使用 `wgrib2` 命令查看可以得知，第三个要素场就是总降水 APCP。\n",
    "在 GRIB 2 表格中的描述如下：\n",
    "\n",
    "```\n",
    "Total precipitation  (kg m-2)  (grib2/tables/4/4.2.0.1.table) \n",
    "```"
   ]
  },
  {
   "cell_type": "markdown",
   "metadata": {},
   "source": [
    "### 练习\n",
    "\n",
    "检索 850hPa 水汽通量。\n",
    "\n",
    "```json\n",
    "{\n",
    "    \"dicsipline\": 0,\n",
    "    \"paramterCategory\": 1,\n",
    "    \"paramterNumber\": 224,\n",
    "}\n",
    "```"
   ]
  },
  {
   "cell_type": "code",
   "execution_count": null,
   "metadata": {},
   "outputs": [],
   "source": []
  },
  {
   "cell_type": "markdown",
   "metadata": {},
   "source": [
    "## 默认值\n",
    "\n",
    "`parameter` 参数的默认值为 `None`，在查找消息时不检测要素场的变量。\n",
    "\n",
    "与 `level_type` 和 `level` 的默认值一同使用，可以用于从文件中读取第一个要素场。当文件中只有一个要素场的时候非常有用。\n",
    "\n",
    "**注意**：当前实现方式尚未优化，请谨慎使用默认参数读取多要素场文件，可能会耗费大量时间"
   ]
  },
  {
   "cell_type": "code",
   "execution_count": null,
   "metadata": {},
   "outputs": [],
   "source": []
  }
 ],
 "metadata": {
  "kernelspec": {
   "display_name": "Python 3",
   "language": "python",
   "name": "python3"
  },
  "language_info": {
   "codemirror_mode": {
    "name": "ipython",
    "version": 3
   },
   "file_extension": ".py",
   "mimetype": "text/x-python",
   "name": "python",
   "nbconvert_exporter": "python",
   "pygments_lexer": "ipython3",
   "version": "3.7.8"
  }
 },
 "nbformat": 4,
 "nbformat_minor": 4
}